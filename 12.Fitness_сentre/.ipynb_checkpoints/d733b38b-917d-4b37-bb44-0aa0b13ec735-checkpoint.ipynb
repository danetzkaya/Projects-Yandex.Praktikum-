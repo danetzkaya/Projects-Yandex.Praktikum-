{
 "cells": [
  {
   "cell_type": "markdown",
   "metadata": {},
   "source": [
    "# Прогноз оттока посетителей сети фитнес-центров"
   ]
  },
  {
   "cell_type": "markdown",
   "metadata": {},
   "source": [
    "Сеть фитнес-центров «Культурист-датасаентист» разрабатывает стратегию взаимодействия с клиентами на основе аналитических данных.\n",
    "Распространённая проблема фитнес-клубов и других сервисов — отток клиентов. Для фитнес-центра можно считать, что клиент попал в отток, если за последний месяц ни разу не посетил спортзал. \n",
    "Чтобы бороться с оттоком, отдел по работе с клиентами «Культуриста-датасаентиста» перевёл в электронный вид множество клиентских анкет. \n",
    "\n",
    "**Цель:** Провести анализ и подготовить план действий по удержанию клиентов.\n",
    "\n",
    "**Задачи:**\n",
    "\n",
    "- научиться прогнозировать вероятность оттока (на уровне следующего месяца) для каждого клиента;\n",
    "- сформировать типичные портреты клиентов: выделить несколько наиболее ярких групп и охарактеризовать их основные свойства;\n",
    "- проанализировать основные признаки, наиболее сильно влияющие на отток;\n",
    "- сформулировать основные выводы и разработать рекомендации по повышению качества работы с клиентами:\n",
    "    \n",
    "    1) выделить целевые группы клиентов;\n",
    "    \n",
    "    2) предложить меры по снижению оттока;\n",
    "    \n",
    "    3) определить другие особенности взаимодействия с клиентами.\n",
    "    \n",
    "**Исходные данные:**\n",
    "«Культурист-датасаентист» предоставил сведения в csv-файлах. Заказчик подготовил данные, которые содержат данные на месяц до оттока и факт оттока на определённый месяц. \n",
    "\n",
    "Набор данных включает следующие поля:\n",
    "- Данные клиента за предыдущий до проверки факта оттока месяц:\n",
    "    - `gender` — пол;\n",
    "    - `Near_Location` — проживание или работа в районе, где находится фитнес-центр;\n",
    "    - `Partner` — сотрудник компании-партнёра клуба (сотрудничество с компаниями, чьи сотрудники могут получать скидки на абонемент — в таком случае фитнес-центр хранит информацию о работодателе клиента);\n",
    "    - `Promo_friends` — факт первоначальной записи в рамках акции «приведи друга» (использовал промо-код от знакомого при оплате первого абонемента);\n",
    "    - `Phone` — наличие контактного телефона;\n",
    "    - `Age` — возраст;\n",
    "    - `Lifetime` — время с момента первого обращения в фитнес-центр (в месяцах).\n",
    "- Информация на основе журнала посещений, покупок и информация о текущем статусе абонемента клиента:\n",
    "    - `Contract_period` — длительность текущего действующего абонемента (месяц, 6 месяцев, год);\n",
    "    - `Month_to_end_contract` — срок до окончания текущего действующего абонемента (в месяцах);\n",
    "    - `Group_visits` — факт посещения групповых занятий;\n",
    "    - `Avg_class_frequency_total` — средняя частота посещений в неделю за все время с начала действия абонемента;\n",
    "    - `Avg_class_frequency_current_month` — средняя частота посещений в неделю за предыдущий месяц;\n",
    "    - `Avg_additional_charges_total` — суммарная выручка от других услуг фитнес-центра: кафе, спорттовары, косметический и массажный салон.\n",
    "    - `Churn` — факт оттока в текущем месяце."
   ]
  },
  {
   "cell_type": "markdown",
   "metadata": {
    "toc": true
   },
   "source": [
    "<h1>Содержание<span class=\"tocSkip\"></span></h1>\n",
    "<div class=\"toc\"><ul class=\"toc-item\"><li><span><a href=\"#Загрузка-файла-с-данными-и-изучение-общей-информации\" data-toc-modified-id=\"Загрузка-файла-с-данными-и-изучение-общей-информации-1\"><span class=\"toc-item-num\">1&nbsp;&nbsp;</span>Загрузка файла с данными и изучение общей информации</a></span></li><li><span><a href=\"#Исследовательский-анализ-данных-(EDA)\" data-toc-modified-id=\"Исследовательский-анализ-данных-(EDA)-2\"><span class=\"toc-item-num\">2&nbsp;&nbsp;</span>Исследовательский анализ данных (EDA)</a></span><ul class=\"toc-item\"><li><span><a href=\"#Посмотрим-есть-ли-отсутствующие-признаки,-изучим-средние-значения-и-стандартные-отклонения\" data-toc-modified-id=\"Посмотрим-есть-ли-отсутствующие-признаки,-изучим-средние-значения-и-стандартные-отклонения-2.1\"><span class=\"toc-item-num\">2.1&nbsp;&nbsp;</span>Посмотрим есть ли отсутствующие признаки, изучим средние значения и стандартные отклонения</a></span></li><li><span><a href=\"#Посмотрим-на-средние-значения-признаков-в-двух-группах-—-тех,-кто-ушел-в-отток-и-тех,-кто-остался\" data-toc-modified-id=\"Посмотрим-на-средние-значения-признаков-в-двух-группах-—-тех,-кто-ушел-в-отток-и-тех,-кто-остался-2.2\"><span class=\"toc-item-num\">2.2&nbsp;&nbsp;</span>Посмотрим на средние значения признаков в двух группах — тех, кто ушел в отток и тех, кто остался</a></span></li><li><span><a href=\"#Построим-столбчатые-гистограммы-и-распределения-признаков-для-тех,-кто-ушёл-(отток)-и-тех,-кто-остался-(не-попали-в-отток)\" data-toc-modified-id=\"Построим-столбчатые-гистограммы-и-распределения-признаков-для-тех,-кто-ушёл-(отток)-и-тех,-кто-остался-(не-попали-в-отток)-2.3\"><span class=\"toc-item-num\">2.3&nbsp;&nbsp;</span>Построим столбчатые гистограммы и распределения признаков для тех, кто ушёл (отток) и тех, кто остался (не попали в отток)</a></span></li><li><span><a href=\"#Построим-матрицу-корреляций-и-отобразим-её\" data-toc-modified-id=\"Построим-матрицу-корреляций-и-отобразим-её-2.4\"><span class=\"toc-item-num\">2.4&nbsp;&nbsp;</span>Построим матрицу корреляций и отобразим её</a></span></li></ul></li><li><span><a href=\"#Построим-модель-прогнозирования-оттока-клиентов\" data-toc-modified-id=\"Построим-модель-прогнозирования-оттока-клиентов-3\"><span class=\"toc-item-num\">3&nbsp;&nbsp;</span>Построим модель прогнозирования оттока клиентов</a></span><ul class=\"toc-item\"><li><span><a href=\"#Разобьём-данные-на-обучающую-и-валидационную-выборку:\" data-toc-modified-id=\"Разобьём-данные-на-обучающую-и-валидационную-выборку:-3.1\"><span class=\"toc-item-num\">3.1&nbsp;&nbsp;</span>Разобьём данные на обучающую и валидационную выборку:</a></span></li><li><span><a href=\"#Стандартизируем-данные:\" data-toc-modified-id=\"Стандартизируем-данные:-3.2\"><span class=\"toc-item-num\">3.2&nbsp;&nbsp;</span>Стандартизируем данные:</a></span></li><li><span><a href=\"#Обучим-модель-на-train-выборке-двумя-способами:\" data-toc-modified-id=\"Обучим-модель-на-train-выборке-двумя-способами:-3.3\"><span class=\"toc-item-num\">3.3&nbsp;&nbsp;</span>Обучим модель на train-выборке двумя способами:</a></span></li><li><span><a href=\"#Оцениим-метрики-accuracy,-precision-и-recall-для-обеих-моделей-на-валидационной-выборке.-Сравним-по-ним-модели.-И-определим-какая-модель-показала-себя-лучше-на-основании-метрик?\" data-toc-modified-id=\"Оцениим-метрики-accuracy,-precision-и-recall-для-обеих-моделей-на-валидационной-выборке.-Сравним-по-ним-модели.-И-определим-какая-модель-показала-себя-лучше-на-основании-метрик?-3.4\"><span class=\"toc-item-num\">3.4&nbsp;&nbsp;</span>Оцениим метрики accuracy, precision и recall для обеих моделей на валидационной выборке. Сравним по ним модели. И определим какая модель показала себя лучше на основании метрик?</a></span></li></ul></li><li><span><a href=\"#Сделаем-кластеризацию-клиентов\" data-toc-modified-id=\"Сделаем-кластеризацию-клиентов-4\"><span class=\"toc-item-num\">4&nbsp;&nbsp;</span>Сделаем кластеризацию клиентов</a></span><ul class=\"toc-item\"><li><span><a href=\"#Стандартизируем-данные:\" data-toc-modified-id=\"Стандартизируем-данные:-4.1\"><span class=\"toc-item-num\">4.1&nbsp;&nbsp;</span>Стандартизируем данные:</a></span></li><li><span><a href=\"#Построим-матрицу-расстояний-на-стандартизованной-матрице-признаков-и-нарисуем-дендрограмму.-На-основании-полученного-графика-предположии,-какое-количество-кластеров-можно-выделить.\" data-toc-modified-id=\"Построим-матрицу-расстояний-на-стандартизованной-матрице-признаков-и-нарисуем-дендрограмму.-На-основании-полученного-графика-предположии,-какое-количество-кластеров-можно-выделить.-4.2\"><span class=\"toc-item-num\">4.2&nbsp;&nbsp;</span>Построим матрицу расстояний на стандартизованной матрице признаков и нарисуем дендрограмму. На основании полученного графика предположии, какое количество кластеров можно выделить.</a></span></li><li><span><a href=\"#Обучим-модель-кластеризации-на-основании-алгоритма-K-Means-и-спрогнозируем-кластеры-клиентов:\" data-toc-modified-id=\"Обучим-модель-кластеризации-на-основании-алгоритма-K-Means-и-спрогнозируем-кластеры-клиентов:-4.3\"><span class=\"toc-item-num\">4.3&nbsp;&nbsp;</span>Обучим модель кластеризации на основании алгоритма K-Means и спрогнозируем кластеры клиентов:</a></span></li><li><span><a href=\"#Посмотрим-на-средние-значения-признаков-для-кластеров:\" data-toc-modified-id=\"Посмотрим-на-средние-значения-признаков-для-кластеров:-4.4\"><span class=\"toc-item-num\">4.4&nbsp;&nbsp;</span>Посмотрим на средние значения признаков для кластеров:</a></span></li><li><span><a href=\"#Построим-распределения-признаков-для-кластеров:\" data-toc-modified-id=\"Построим-распределения-признаков-для-кластеров:-4.5\"><span class=\"toc-item-num\">4.5&nbsp;&nbsp;</span>Построим распределения признаков для кластеров:</a></span></li><li><span><a href=\"#Для-каждого-полученного-кластера-посчитаем-долю-оттока:\" data-toc-modified-id=\"Для-каждого-полученного-кластера-посчитаем-долю-оттока:-4.6\"><span class=\"toc-item-num\">4.6&nbsp;&nbsp;</span>Для каждого полученного кластера посчитаем долю оттока:</a></span></li></ul></li><li><span><a href=\"#Сформулируем-выводы-и-сделаем-базовые-рекомендации-по-работе-с-клиентами\" data-toc-modified-id=\"Сформулируем-выводы-и-сделаем-базовые-рекомендации-по-работе-с-клиентами-5\"><span class=\"toc-item-num\">5&nbsp;&nbsp;</span>Сформулируем выводы и сделаем базовые рекомендации по работе с клиентами</a></span></li></ul></div>"
   ]
  },
  {
   "cell_type": "code",
   "execution_count": 1,
   "metadata": {},
   "outputs": [],
   "source": [
    "# необходимые библиотеки для исследования\n",
    "\n",
    "import pandas as pd\n",
    "import seaborn as sns\n",
    "import matplotlib.pyplot as plt\n",
    "\n",
    "from sklearn.preprocessing import StandardScaler\n",
    "from sklearn.model_selection import train_test_split\n",
    "from sklearn.linear_model import LogisticRegression\n",
    "from sklearn.ensemble import RandomForestClassifier\n",
    "from sklearn.metrics import accuracy_score, precision_score, recall_score\n",
    "from sklearn.cluster import KMeans\n",
    "from scipy.cluster.hierarchy import dendrogram, linkage\n",
    "import itertools\n",
    "\n",
    "# исключаем предупреждения\n",
    "import warnings\n",
    "warnings.filterwarnings('ignore')"
   ]
  },
  {
   "cell_type": "markdown",
   "metadata": {},
   "source": [
    "## Загрузка файла с данными и изучение общей информации"
   ]
  },
  {
   "cell_type": "code",
   "execution_count": 2,
   "metadata": {},
   "outputs": [
    {
     "data": {
      "text/html": [
       "<div>\n",
       "<style scoped>\n",
       "    .dataframe tbody tr th:only-of-type {\n",
       "        vertical-align: middle;\n",
       "    }\n",
       "\n",
       "    .dataframe tbody tr th {\n",
       "        vertical-align: top;\n",
       "    }\n",
       "\n",
       "    .dataframe thead th {\n",
       "        text-align: right;\n",
       "    }\n",
       "</style>\n",
       "<table border=\"1\" class=\"dataframe\">\n",
       "  <thead>\n",
       "    <tr style=\"text-align: right;\">\n",
       "      <th></th>\n",
       "      <th>gender</th>\n",
       "      <th>Near_Location</th>\n",
       "      <th>Partner</th>\n",
       "      <th>Promo_friends</th>\n",
       "      <th>Phone</th>\n",
       "      <th>Contract_period</th>\n",
       "      <th>Group_visits</th>\n",
       "      <th>Age</th>\n",
       "      <th>Avg_additional_charges_total</th>\n",
       "      <th>Month_to_end_contract</th>\n",
       "      <th>Lifetime</th>\n",
       "      <th>Avg_class_frequency_total</th>\n",
       "      <th>Avg_class_frequency_current_month</th>\n",
       "      <th>Churn</th>\n",
       "    </tr>\n",
       "  </thead>\n",
       "  <tbody>\n",
       "    <tr>\n",
       "      <th>0</th>\n",
       "      <td>1</td>\n",
       "      <td>1</td>\n",
       "      <td>1</td>\n",
       "      <td>1</td>\n",
       "      <td>0</td>\n",
       "      <td>6</td>\n",
       "      <td>1</td>\n",
       "      <td>29</td>\n",
       "      <td>14.227470</td>\n",
       "      <td>5.0</td>\n",
       "      <td>3</td>\n",
       "      <td>0.020398</td>\n",
       "      <td>0.000000</td>\n",
       "      <td>0</td>\n",
       "    </tr>\n",
       "    <tr>\n",
       "      <th>1</th>\n",
       "      <td>0</td>\n",
       "      <td>1</td>\n",
       "      <td>0</td>\n",
       "      <td>0</td>\n",
       "      <td>1</td>\n",
       "      <td>12</td>\n",
       "      <td>1</td>\n",
       "      <td>31</td>\n",
       "      <td>113.202938</td>\n",
       "      <td>12.0</td>\n",
       "      <td>7</td>\n",
       "      <td>1.922936</td>\n",
       "      <td>1.910244</td>\n",
       "      <td>0</td>\n",
       "    </tr>\n",
       "    <tr>\n",
       "      <th>2</th>\n",
       "      <td>0</td>\n",
       "      <td>1</td>\n",
       "      <td>1</td>\n",
       "      <td>0</td>\n",
       "      <td>1</td>\n",
       "      <td>1</td>\n",
       "      <td>0</td>\n",
       "      <td>28</td>\n",
       "      <td>129.448479</td>\n",
       "      <td>1.0</td>\n",
       "      <td>2</td>\n",
       "      <td>1.859098</td>\n",
       "      <td>1.736502</td>\n",
       "      <td>0</td>\n",
       "    </tr>\n",
       "    <tr>\n",
       "      <th>3</th>\n",
       "      <td>0</td>\n",
       "      <td>1</td>\n",
       "      <td>1</td>\n",
       "      <td>1</td>\n",
       "      <td>1</td>\n",
       "      <td>12</td>\n",
       "      <td>1</td>\n",
       "      <td>33</td>\n",
       "      <td>62.669863</td>\n",
       "      <td>12.0</td>\n",
       "      <td>2</td>\n",
       "      <td>3.205633</td>\n",
       "      <td>3.357215</td>\n",
       "      <td>0</td>\n",
       "    </tr>\n",
       "    <tr>\n",
       "      <th>4</th>\n",
       "      <td>1</td>\n",
       "      <td>1</td>\n",
       "      <td>1</td>\n",
       "      <td>1</td>\n",
       "      <td>1</td>\n",
       "      <td>1</td>\n",
       "      <td>0</td>\n",
       "      <td>26</td>\n",
       "      <td>198.362265</td>\n",
       "      <td>1.0</td>\n",
       "      <td>3</td>\n",
       "      <td>1.113884</td>\n",
       "      <td>1.120078</td>\n",
       "      <td>0</td>\n",
       "    </tr>\n",
       "    <tr>\n",
       "      <th>5</th>\n",
       "      <td>1</td>\n",
       "      <td>1</td>\n",
       "      <td>0</td>\n",
       "      <td>0</td>\n",
       "      <td>1</td>\n",
       "      <td>1</td>\n",
       "      <td>1</td>\n",
       "      <td>34</td>\n",
       "      <td>450.743960</td>\n",
       "      <td>1.0</td>\n",
       "      <td>3</td>\n",
       "      <td>2.623477</td>\n",
       "      <td>2.637007</td>\n",
       "      <td>0</td>\n",
       "    </tr>\n",
       "    <tr>\n",
       "      <th>6</th>\n",
       "      <td>1</td>\n",
       "      <td>1</td>\n",
       "      <td>1</td>\n",
       "      <td>1</td>\n",
       "      <td>0</td>\n",
       "      <td>6</td>\n",
       "      <td>1</td>\n",
       "      <td>32</td>\n",
       "      <td>94.266389</td>\n",
       "      <td>6.0</td>\n",
       "      <td>2</td>\n",
       "      <td>1.138941</td>\n",
       "      <td>1.277242</td>\n",
       "      <td>0</td>\n",
       "    </tr>\n",
       "    <tr>\n",
       "      <th>7</th>\n",
       "      <td>0</td>\n",
       "      <td>1</td>\n",
       "      <td>0</td>\n",
       "      <td>0</td>\n",
       "      <td>1</td>\n",
       "      <td>1</td>\n",
       "      <td>0</td>\n",
       "      <td>30</td>\n",
       "      <td>217.786641</td>\n",
       "      <td>1.0</td>\n",
       "      <td>0</td>\n",
       "      <td>1.213502</td>\n",
       "      <td>1.049387</td>\n",
       "      <td>1</td>\n",
       "    </tr>\n",
       "    <tr>\n",
       "      <th>8</th>\n",
       "      <td>1</td>\n",
       "      <td>1</td>\n",
       "      <td>1</td>\n",
       "      <td>1</td>\n",
       "      <td>1</td>\n",
       "      <td>1</td>\n",
       "      <td>1</td>\n",
       "      <td>23</td>\n",
       "      <td>45.409909</td>\n",
       "      <td>1.0</td>\n",
       "      <td>1</td>\n",
       "      <td>1.106239</td>\n",
       "      <td>1.059333</td>\n",
       "      <td>0</td>\n",
       "    </tr>\n",
       "    <tr>\n",
       "      <th>9</th>\n",
       "      <td>0</td>\n",
       "      <td>1</td>\n",
       "      <td>0</td>\n",
       "      <td>0</td>\n",
       "      <td>1</td>\n",
       "      <td>1</td>\n",
       "      <td>0</td>\n",
       "      <td>31</td>\n",
       "      <td>65.310836</td>\n",
       "      <td>1.0</td>\n",
       "      <td>11</td>\n",
       "      <td>1.810852</td>\n",
       "      <td>1.951368</td>\n",
       "      <td>0</td>\n",
       "    </tr>\n",
       "  </tbody>\n",
       "</table>\n",
       "</div>"
      ],
      "text/plain": [
       "   gender  Near_Location  Partner  Promo_friends  Phone  Contract_period  \\\n",
       "0       1              1        1              1      0                6   \n",
       "1       0              1        0              0      1               12   \n",
       "2       0              1        1              0      1                1   \n",
       "3       0              1        1              1      1               12   \n",
       "4       1              1        1              1      1                1   \n",
       "5       1              1        0              0      1                1   \n",
       "6       1              1        1              1      0                6   \n",
       "7       0              1        0              0      1                1   \n",
       "8       1              1        1              1      1                1   \n",
       "9       0              1        0              0      1                1   \n",
       "\n",
       "   Group_visits  Age  Avg_additional_charges_total  Month_to_end_contract  \\\n",
       "0             1   29                     14.227470                    5.0   \n",
       "1             1   31                    113.202938                   12.0   \n",
       "2             0   28                    129.448479                    1.0   \n",
       "3             1   33                     62.669863                   12.0   \n",
       "4             0   26                    198.362265                    1.0   \n",
       "5             1   34                    450.743960                    1.0   \n",
       "6             1   32                     94.266389                    6.0   \n",
       "7             0   30                    217.786641                    1.0   \n",
       "8             1   23                     45.409909                    1.0   \n",
       "9             0   31                     65.310836                    1.0   \n",
       "\n",
       "   Lifetime  Avg_class_frequency_total  Avg_class_frequency_current_month  \\\n",
       "0         3                   0.020398                           0.000000   \n",
       "1         7                   1.922936                           1.910244   \n",
       "2         2                   1.859098                           1.736502   \n",
       "3         2                   3.205633                           3.357215   \n",
       "4         3                   1.113884                           1.120078   \n",
       "5         3                   2.623477                           2.637007   \n",
       "6         2                   1.138941                           1.277242   \n",
       "7         0                   1.213502                           1.049387   \n",
       "8         1                   1.106239                           1.059333   \n",
       "9        11                   1.810852                           1.951368   \n",
       "\n",
       "   Churn  \n",
       "0      0  \n",
       "1      0  \n",
       "2      0  \n",
       "3      0  \n",
       "4      0  \n",
       "5      0  \n",
       "6      0  \n",
       "7      1  \n",
       "8      0  \n",
       "9      0  "
      ]
     },
     "execution_count": 2,
     "metadata": {},
     "output_type": "execute_result"
    }
   ],
   "source": [
    "# загрузка файлa\n",
    "df = pd.read_csv('/datasets/gym_churn.csv')\n",
    "\n",
    "# первые 10 строк\n",
    "df.head(10)"
   ]
  },
  {
   "cell_type": "code",
   "execution_count": 3,
   "metadata": {},
   "outputs": [
    {
     "name": "stdout",
     "output_type": "stream",
     "text": [
      "<class 'pandas.core.frame.DataFrame'>\n",
      "RangeIndex: 4000 entries, 0 to 3999\n",
      "Data columns (total 14 columns):\n",
      " #   Column                             Non-Null Count  Dtype  \n",
      "---  ------                             --------------  -----  \n",
      " 0   gender                             4000 non-null   int64  \n",
      " 1   Near_Location                      4000 non-null   int64  \n",
      " 2   Partner                            4000 non-null   int64  \n",
      " 3   Promo_friends                      4000 non-null   int64  \n",
      " 4   Phone                              4000 non-null   int64  \n",
      " 5   Contract_period                    4000 non-null   int64  \n",
      " 6   Group_visits                       4000 non-null   int64  \n",
      " 7   Age                                4000 non-null   int64  \n",
      " 8   Avg_additional_charges_total       4000 non-null   float64\n",
      " 9   Month_to_end_contract              4000 non-null   float64\n",
      " 10  Lifetime                           4000 non-null   int64  \n",
      " 11  Avg_class_frequency_total          4000 non-null   float64\n",
      " 12  Avg_class_frequency_current_month  4000 non-null   float64\n",
      " 13  Churn                              4000 non-null   int64  \n",
      "dtypes: float64(4), int64(10)\n",
      "memory usage: 437.6 KB\n"
     ]
    }
   ],
   "source": [
    "# получение общей информации о данных в таблице df\n",
    "\n",
    "df.info()"
   ]
  },
  {
   "cell_type": "code",
   "execution_count": 4,
   "metadata": {},
   "outputs": [
    {
     "data": {
      "text/plain": [
       "gender                               0\n",
       "Near_Location                        0\n",
       "Partner                              0\n",
       "Promo_friends                        0\n",
       "Phone                                0\n",
       "Contract_period                      0\n",
       "Group_visits                         0\n",
       "Age                                  0\n",
       "Avg_additional_charges_total         0\n",
       "Month_to_end_contract                0\n",
       "Lifetime                             0\n",
       "Avg_class_frequency_total            0\n",
       "Avg_class_frequency_current_month    0\n",
       "Churn                                0\n",
       "dtype: int64"
      ]
     },
     "execution_count": 4,
     "metadata": {},
     "output_type": "execute_result"
    }
   ],
   "source": [
    "# количество пропусков в столбцах\n",
    "\n",
    "df.isna().sum() "
   ]
  },
  {
   "cell_type": "code",
   "execution_count": 5,
   "metadata": {},
   "outputs": [
    {
     "data": {
      "text/plain": [
       "0"
      ]
     },
     "execution_count": 5,
     "metadata": {},
     "output_type": "execute_result"
    }
   ],
   "source": [
    "# проверяем наличие явных дубликатов\n",
    "\n",
    "df.duplicated().sum() "
   ]
  },
  {
   "cell_type": "markdown",
   "metadata": {},
   "source": [
    "- В таблице 14 столбцов.\n",
    "- В названии столбцов не соблюден стиль текста.\n",
    "- Количество строк 4000.\n",
    "- Пропусков нет.\n",
    "- Дубликатов нет.\n",
    "- Форматы данных - числовой (целые и вещественные)."
   ]
  },
  {
   "cell_type": "code",
   "execution_count": 6,
   "metadata": {},
   "outputs": [],
   "source": [
    "# названия столбцов приведем к нижнему регистру\n",
    "\n",
    "df.columns = df.columns.str.lower()"
   ]
  },
  {
   "cell_type": "code",
   "execution_count": 7,
   "metadata": {},
   "outputs": [
    {
     "data": {
      "text/plain": [
       "Index(['gender', 'near_location', 'partner', 'promo_friends', 'phone',\n",
       "       'contract_period', 'group_visits', 'age',\n",
       "       'avg_additional_charges_total', 'month_to_end_contract', 'lifetime',\n",
       "       'avg_class_frequency_total', 'avg_class_frequency_current_month',\n",
       "       'churn'],\n",
       "      dtype='object')"
      ]
     },
     "execution_count": 7,
     "metadata": {},
     "output_type": "execute_result"
    }
   ],
   "source": [
    "df.columns"
   ]
  },
  {
   "cell_type": "code",
   "execution_count": 8,
   "metadata": {},
   "outputs": [
    {
     "data": {
      "text/plain": [
       "1.0     2207\n",
       "6.0      645\n",
       "12.0     524\n",
       "11.0     181\n",
       "5.0      130\n",
       "10.0      82\n",
       "9.0       73\n",
       "4.0       58\n",
       "8.0       38\n",
       "7.0       25\n",
       "3.0       23\n",
       "2.0       14\n",
       "Name: month_to_end_contract, dtype: int64"
      ]
     },
     "execution_count": 8,
     "metadata": {},
     "output_type": "execute_result"
    }
   ],
   "source": [
    "# посмотрим на данные в столбце month_to_end_contract (срок до окончания текущего действующего абонемента (в месяцах))\n",
    "\n",
    "df['month_to_end_contract'].value_counts()"
   ]
  },
  {
   "cell_type": "code",
   "execution_count": 9,
   "metadata": {},
   "outputs": [],
   "source": [
    "# в столбце month_to_end_contract заменим тип данных на целочисленный\n",
    "\n",
    "df['month_to_end_contract'] = df['month_to_end_contract'].astype('int')"
   ]
  },
  {
   "cell_type": "code",
   "execution_count": 10,
   "metadata": {},
   "outputs": [
    {
     "name": "stdout",
     "output_type": "stream",
     "text": [
      "<class 'pandas.core.frame.DataFrame'>\n",
      "RangeIndex: 4000 entries, 0 to 3999\n",
      "Data columns (total 14 columns):\n",
      " #   Column                             Non-Null Count  Dtype  \n",
      "---  ------                             --------------  -----  \n",
      " 0   gender                             4000 non-null   int64  \n",
      " 1   near_location                      4000 non-null   int64  \n",
      " 2   partner                            4000 non-null   int64  \n",
      " 3   promo_friends                      4000 non-null   int64  \n",
      " 4   phone                              4000 non-null   int64  \n",
      " 5   contract_period                    4000 non-null   int64  \n",
      " 6   group_visits                       4000 non-null   int64  \n",
      " 7   age                                4000 non-null   int64  \n",
      " 8   avg_additional_charges_total       4000 non-null   float64\n",
      " 9   month_to_end_contract              4000 non-null   int64  \n",
      " 10  lifetime                           4000 non-null   int64  \n",
      " 11  avg_class_frequency_total          4000 non-null   float64\n",
      " 12  avg_class_frequency_current_month  4000 non-null   float64\n",
      " 13  churn                              4000 non-null   int64  \n",
      "dtypes: float64(3), int64(11)\n",
      "memory usage: 437.6 KB\n"
     ]
    }
   ],
   "source": [
    "df.info()"
   ]
  },
  {
   "cell_type": "markdown",
   "metadata": {},
   "source": [
    "## Исследовательский анализ данных (EDA)"
   ]
  },
  {
   "cell_type": "markdown",
   "metadata": {},
   "source": [
    "### Посмотрим есть ли отсутствующие признаки, изучим средние значения и стандартные отклонения"
   ]
  },
  {
   "cell_type": "code",
   "execution_count": 11,
   "metadata": {},
   "outputs": [
    {
     "data": {
      "text/html": [
       "<div>\n",
       "<style scoped>\n",
       "    .dataframe tbody tr th:only-of-type {\n",
       "        vertical-align: middle;\n",
       "    }\n",
       "\n",
       "    .dataframe tbody tr th {\n",
       "        vertical-align: top;\n",
       "    }\n",
       "\n",
       "    .dataframe thead th {\n",
       "        text-align: right;\n",
       "    }\n",
       "</style>\n",
       "<table border=\"1\" class=\"dataframe\">\n",
       "  <thead>\n",
       "    <tr style=\"text-align: right;\">\n",
       "      <th></th>\n",
       "      <th>gender</th>\n",
       "      <th>near_location</th>\n",
       "      <th>partner</th>\n",
       "      <th>promo_friends</th>\n",
       "      <th>phone</th>\n",
       "      <th>contract_period</th>\n",
       "      <th>group_visits</th>\n",
       "      <th>age</th>\n",
       "      <th>avg_additional_charges_total</th>\n",
       "      <th>month_to_end_contract</th>\n",
       "      <th>lifetime</th>\n",
       "      <th>avg_class_frequency_total</th>\n",
       "      <th>avg_class_frequency_current_month</th>\n",
       "      <th>churn</th>\n",
       "    </tr>\n",
       "  </thead>\n",
       "  <tbody>\n",
       "    <tr>\n",
       "      <th>count</th>\n",
       "      <td>4000.000000</td>\n",
       "      <td>4000.000000</td>\n",
       "      <td>4000.000000</td>\n",
       "      <td>4000.000000</td>\n",
       "      <td>4000.000000</td>\n",
       "      <td>4000.000000</td>\n",
       "      <td>4000.000000</td>\n",
       "      <td>4000.000000</td>\n",
       "      <td>4000.000000</td>\n",
       "      <td>4000.000000</td>\n",
       "      <td>4000.000000</td>\n",
       "      <td>4000.000000</td>\n",
       "      <td>4000.000000</td>\n",
       "      <td>4000.000000</td>\n",
       "    </tr>\n",
       "    <tr>\n",
       "      <th>mean</th>\n",
       "      <td>0.510250</td>\n",
       "      <td>0.845250</td>\n",
       "      <td>0.486750</td>\n",
       "      <td>0.308500</td>\n",
       "      <td>0.903500</td>\n",
       "      <td>4.681250</td>\n",
       "      <td>0.412250</td>\n",
       "      <td>29.184250</td>\n",
       "      <td>146.943728</td>\n",
       "      <td>4.322750</td>\n",
       "      <td>3.724750</td>\n",
       "      <td>1.879020</td>\n",
       "      <td>1.767052</td>\n",
       "      <td>0.265250</td>\n",
       "    </tr>\n",
       "    <tr>\n",
       "      <th>std</th>\n",
       "      <td>0.499957</td>\n",
       "      <td>0.361711</td>\n",
       "      <td>0.499887</td>\n",
       "      <td>0.461932</td>\n",
       "      <td>0.295313</td>\n",
       "      <td>4.549706</td>\n",
       "      <td>0.492301</td>\n",
       "      <td>3.258367</td>\n",
       "      <td>96.355602</td>\n",
       "      <td>4.191297</td>\n",
       "      <td>3.749267</td>\n",
       "      <td>0.972245</td>\n",
       "      <td>1.052906</td>\n",
       "      <td>0.441521</td>\n",
       "    </tr>\n",
       "    <tr>\n",
       "      <th>min</th>\n",
       "      <td>0.000000</td>\n",
       "      <td>0.000000</td>\n",
       "      <td>0.000000</td>\n",
       "      <td>0.000000</td>\n",
       "      <td>0.000000</td>\n",
       "      <td>1.000000</td>\n",
       "      <td>0.000000</td>\n",
       "      <td>18.000000</td>\n",
       "      <td>0.148205</td>\n",
       "      <td>1.000000</td>\n",
       "      <td>0.000000</td>\n",
       "      <td>0.000000</td>\n",
       "      <td>0.000000</td>\n",
       "      <td>0.000000</td>\n",
       "    </tr>\n",
       "    <tr>\n",
       "      <th>25%</th>\n",
       "      <td>0.000000</td>\n",
       "      <td>1.000000</td>\n",
       "      <td>0.000000</td>\n",
       "      <td>0.000000</td>\n",
       "      <td>1.000000</td>\n",
       "      <td>1.000000</td>\n",
       "      <td>0.000000</td>\n",
       "      <td>27.000000</td>\n",
       "      <td>68.868830</td>\n",
       "      <td>1.000000</td>\n",
       "      <td>1.000000</td>\n",
       "      <td>1.180875</td>\n",
       "      <td>0.963003</td>\n",
       "      <td>0.000000</td>\n",
       "    </tr>\n",
       "    <tr>\n",
       "      <th>50%</th>\n",
       "      <td>1.000000</td>\n",
       "      <td>1.000000</td>\n",
       "      <td>0.000000</td>\n",
       "      <td>0.000000</td>\n",
       "      <td>1.000000</td>\n",
       "      <td>1.000000</td>\n",
       "      <td>0.000000</td>\n",
       "      <td>29.000000</td>\n",
       "      <td>136.220159</td>\n",
       "      <td>1.000000</td>\n",
       "      <td>3.000000</td>\n",
       "      <td>1.832768</td>\n",
       "      <td>1.719574</td>\n",
       "      <td>0.000000</td>\n",
       "    </tr>\n",
       "    <tr>\n",
       "      <th>75%</th>\n",
       "      <td>1.000000</td>\n",
       "      <td>1.000000</td>\n",
       "      <td>1.000000</td>\n",
       "      <td>1.000000</td>\n",
       "      <td>1.000000</td>\n",
       "      <td>6.000000</td>\n",
       "      <td>1.000000</td>\n",
       "      <td>31.000000</td>\n",
       "      <td>210.949625</td>\n",
       "      <td>6.000000</td>\n",
       "      <td>5.000000</td>\n",
       "      <td>2.536078</td>\n",
       "      <td>2.510336</td>\n",
       "      <td>1.000000</td>\n",
       "    </tr>\n",
       "    <tr>\n",
       "      <th>max</th>\n",
       "      <td>1.000000</td>\n",
       "      <td>1.000000</td>\n",
       "      <td>1.000000</td>\n",
       "      <td>1.000000</td>\n",
       "      <td>1.000000</td>\n",
       "      <td>12.000000</td>\n",
       "      <td>1.000000</td>\n",
       "      <td>41.000000</td>\n",
       "      <td>552.590740</td>\n",
       "      <td>12.000000</td>\n",
       "      <td>31.000000</td>\n",
       "      <td>6.023668</td>\n",
       "      <td>6.146783</td>\n",
       "      <td>1.000000</td>\n",
       "    </tr>\n",
       "  </tbody>\n",
       "</table>\n",
       "</div>"
      ],
      "text/plain": [
       "            gender  near_location      partner  promo_friends        phone  \\\n",
       "count  4000.000000    4000.000000  4000.000000    4000.000000  4000.000000   \n",
       "mean      0.510250       0.845250     0.486750       0.308500     0.903500   \n",
       "std       0.499957       0.361711     0.499887       0.461932     0.295313   \n",
       "min       0.000000       0.000000     0.000000       0.000000     0.000000   \n",
       "25%       0.000000       1.000000     0.000000       0.000000     1.000000   \n",
       "50%       1.000000       1.000000     0.000000       0.000000     1.000000   \n",
       "75%       1.000000       1.000000     1.000000       1.000000     1.000000   \n",
       "max       1.000000       1.000000     1.000000       1.000000     1.000000   \n",
       "\n",
       "       contract_period  group_visits          age  \\\n",
       "count      4000.000000   4000.000000  4000.000000   \n",
       "mean          4.681250      0.412250    29.184250   \n",
       "std           4.549706      0.492301     3.258367   \n",
       "min           1.000000      0.000000    18.000000   \n",
       "25%           1.000000      0.000000    27.000000   \n",
       "50%           1.000000      0.000000    29.000000   \n",
       "75%           6.000000      1.000000    31.000000   \n",
       "max          12.000000      1.000000    41.000000   \n",
       "\n",
       "       avg_additional_charges_total  month_to_end_contract     lifetime  \\\n",
       "count                   4000.000000            4000.000000  4000.000000   \n",
       "mean                     146.943728               4.322750     3.724750   \n",
       "std                       96.355602               4.191297     3.749267   \n",
       "min                        0.148205               1.000000     0.000000   \n",
       "25%                       68.868830               1.000000     1.000000   \n",
       "50%                      136.220159               1.000000     3.000000   \n",
       "75%                      210.949625               6.000000     5.000000   \n",
       "max                      552.590740              12.000000    31.000000   \n",
       "\n",
       "       avg_class_frequency_total  avg_class_frequency_current_month  \\\n",
       "count                4000.000000                        4000.000000   \n",
       "mean                    1.879020                           1.767052   \n",
       "std                     0.972245                           1.052906   \n",
       "min                     0.000000                           0.000000   \n",
       "25%                     1.180875                           0.963003   \n",
       "50%                     1.832768                           1.719574   \n",
       "75%                     2.536078                           2.510336   \n",
       "max                     6.023668                           6.146783   \n",
       "\n",
       "             churn  \n",
       "count  4000.000000  \n",
       "mean      0.265250  \n",
       "std       0.441521  \n",
       "min       0.000000  \n",
       "25%       0.000000  \n",
       "50%       0.000000  \n",
       "75%       1.000000  \n",
       "max       1.000000  "
      ]
     },
     "execution_count": 11,
     "metadata": {},
     "output_type": "execute_result"
    }
   ],
   "source": [
    "df.describe()"
   ]
  },
  {
   "cell_type": "markdown",
   "metadata": {},
   "source": [
    "- Женщин и мужчин примерно одинаковое количество (обозначение пола: 0 и 1);\n",
    "- БОльшая часть (около 85%) клиентов проживает или работает рядом с фитнес-центром;\n",
    "- Почти половина клиентов являются сотрудниками компаний партнёпров;\n",
    "- 30% клиентов первончально записались в фитнес-центр по акции \"приведи друга\";\n",
    "- Контактые номера известны у 90% клиентов;\n",
    "- Средняя длительность текущих действующих абонементов клиентов - 4-5 месяцев;\n",
    "- Примерно 40% клиентов посещают групповые занятия;\n",
    "- Средний возраст клиентов клиентов фитнес-центра - 29 лет;\n",
    "- В среднем суммарная выручка от других услуг (массаж, кафе, спорт-товары) фитнес-центра на одного клиента - 147;\n",
    "- Средний срок до окончания текущего действующего абонемента - 4 месяца с небольшим;\n",
    "- Среднее время с момента первого обращения в фитнес-центр - около 4 месяцев (клуб недавно открылся?);\n",
    "- Средняя частота посещений за все время с начала действия абонемента - 2 раза в неделю;\n",
    "- Средняя частота посещений за последний месяц - чуть реже, но примерно также 2 раза в неделю;\n",
    "- Факт оттока в текущем месяце - 27%, но довольно большое значение стандарного отклонения."
   ]
  },
  {
   "cell_type": "markdown",
   "metadata": {},
   "source": [
    "### Посмотрим на средние значения признаков в двух группах — тех, кто ушел в отток и тех, кто остался"
   ]
  },
  {
   "cell_type": "code",
   "execution_count": 12,
   "metadata": {},
   "outputs": [
    {
     "data": {
      "text/plain": [
       "0    2939\n",
       "1    1061\n",
       "Name: churn, dtype: int64"
      ]
     },
     "execution_count": 12,
     "metadata": {},
     "output_type": "execute_result"
    }
   ],
   "source": [
    "# количество клиентов, которые ушли (1) и которые остались (0)\n",
    "\n",
    "df['churn'].value_counts()"
   ]
  },
  {
   "cell_type": "code",
   "execution_count": 13,
   "metadata": {},
   "outputs": [
    {
     "data": {
      "text/html": [
       "<div>\n",
       "<style scoped>\n",
       "    .dataframe tbody tr th:only-of-type {\n",
       "        vertical-align: middle;\n",
       "    }\n",
       "\n",
       "    .dataframe tbody tr th {\n",
       "        vertical-align: top;\n",
       "    }\n",
       "\n",
       "    .dataframe thead th {\n",
       "        text-align: right;\n",
       "    }\n",
       "</style>\n",
       "<table border=\"1\" class=\"dataframe\">\n",
       "  <thead>\n",
       "    <tr style=\"text-align: right;\">\n",
       "      <th>churn</th>\n",
       "      <th>0</th>\n",
       "      <th>1</th>\n",
       "      <th>part</th>\n",
       "    </tr>\n",
       "  </thead>\n",
       "  <tbody>\n",
       "    <tr>\n",
       "      <th>gender</th>\n",
       "      <td>0.51</td>\n",
       "      <td>0.51</td>\n",
       "      <td>1.00</td>\n",
       "    </tr>\n",
       "    <tr>\n",
       "      <th>near_location</th>\n",
       "      <td>0.87</td>\n",
       "      <td>0.77</td>\n",
       "      <td>1.14</td>\n",
       "    </tr>\n",
       "    <tr>\n",
       "      <th>partner</th>\n",
       "      <td>0.53</td>\n",
       "      <td>0.36</td>\n",
       "      <td>1.50</td>\n",
       "    </tr>\n",
       "    <tr>\n",
       "      <th>promo_friends</th>\n",
       "      <td>0.35</td>\n",
       "      <td>0.18</td>\n",
       "      <td>1.92</td>\n",
       "    </tr>\n",
       "    <tr>\n",
       "      <th>phone</th>\n",
       "      <td>0.90</td>\n",
       "      <td>0.90</td>\n",
       "      <td>1.00</td>\n",
       "    </tr>\n",
       "    <tr>\n",
       "      <th>contract_period</th>\n",
       "      <td>5.75</td>\n",
       "      <td>1.73</td>\n",
       "      <td>3.32</td>\n",
       "    </tr>\n",
       "    <tr>\n",
       "      <th>group_visits</th>\n",
       "      <td>0.46</td>\n",
       "      <td>0.27</td>\n",
       "      <td>1.73</td>\n",
       "    </tr>\n",
       "    <tr>\n",
       "      <th>age</th>\n",
       "      <td>29.98</td>\n",
       "      <td>26.99</td>\n",
       "      <td>1.11</td>\n",
       "    </tr>\n",
       "    <tr>\n",
       "      <th>avg_additional_charges_total</th>\n",
       "      <td>158.45</td>\n",
       "      <td>115.08</td>\n",
       "      <td>1.38</td>\n",
       "    </tr>\n",
       "    <tr>\n",
       "      <th>month_to_end_contract</th>\n",
       "      <td>5.28</td>\n",
       "      <td>1.66</td>\n",
       "      <td>3.18</td>\n",
       "    </tr>\n",
       "    <tr>\n",
       "      <th>lifetime</th>\n",
       "      <td>4.71</td>\n",
       "      <td>0.99</td>\n",
       "      <td>4.76</td>\n",
       "    </tr>\n",
       "    <tr>\n",
       "      <th>avg_class_frequency_total</th>\n",
       "      <td>2.02</td>\n",
       "      <td>1.47</td>\n",
       "      <td>1.37</td>\n",
       "    </tr>\n",
       "    <tr>\n",
       "      <th>avg_class_frequency_current_month</th>\n",
       "      <td>2.03</td>\n",
       "      <td>1.04</td>\n",
       "      <td>1.94</td>\n",
       "    </tr>\n",
       "  </tbody>\n",
       "</table>\n",
       "</div>"
      ],
      "text/plain": [
       "churn                                   0       1  part\n",
       "gender                               0.51    0.51  1.00\n",
       "near_location                        0.87    0.77  1.14\n",
       "partner                              0.53    0.36  1.50\n",
       "promo_friends                        0.35    0.18  1.92\n",
       "phone                                0.90    0.90  1.00\n",
       "contract_period                      5.75    1.73  3.32\n",
       "group_visits                         0.46    0.27  1.73\n",
       "age                                 29.98   26.99  1.11\n",
       "avg_additional_charges_total       158.45  115.08  1.38\n",
       "month_to_end_contract                5.28    1.66  3.18\n",
       "lifetime                             4.71    0.99  4.76\n",
       "avg_class_frequency_total            2.02    1.47  1.37\n",
       "avg_class_frequency_current_month    2.03    1.04  1.94"
      ]
     },
     "execution_count": 13,
     "metadata": {},
     "output_type": "execute_result"
    }
   ],
   "source": [
    "mean_churn = df.groupby('churn').mean().T\n",
    "mean_churn['part'] = mean_churn[0] / mean_churn[1]\n",
    "mean_churn.round(2)"
   ]
  },
  {
   "cell_type": "markdown",
   "metadata": {},
   "source": [
    "Сильные различия средних значений признаков в двух группах присутсвуют в длительности текущего абонемента. Пользователи, которые обладали абонементом в фитнес-центр всего-лишь 1 месяца, перестали ходить, а те, кто ходит в зал более 5 месяцев, остаются в строю. И в тоже время, влияет то, каков срок до окончания абонемента, \"сливаются\" те, у кого остается менее 2х месяцев занятий, и активны те клиенты, у которых осталось более 5 месяцев тренировок. Также, как и lifetime, чем раньше клиент стал посетителем фитнес-центра, тем меньше вероятность попасть в группу \"оттока\"."
   ]
  },
  {
   "cell_type": "markdown",
   "metadata": {},
   "source": [
    "### Построим столбчатые гистограммы и распределения признаков для тех, кто ушёл (отток) и тех, кто остался (не попали в отток)"
   ]
  },
  {
   "cell_type": "code",
   "execution_count": 14,
   "metadata": {
    "scrolled": false
   },
   "outputs": [
    {
     "data": {
      "image/png": "[encoded data removed]",
      "text/plain": [
       "<Figure size 720x432 with 1 Axes>"
      ]
     },
     "metadata": {
      "needs_background": "light"
     },
     "output_type": "display_data"
    },
    {
     "data": {
      "image/png": "[encoded data removed]",
      "text/plain": [
       "<Figure size 720x432 with 1 Axes>"
      ]
     },
     "metadata": {
      "needs_background": "light"
     },
     "output_type": "display_data"
    },
    {
     "data": {
      "image/png": "[encoded data removed]",
      "text/plain": [
       "<Figure size 720x432 with 1 Axes>"
      ]
     },
     "metadata": {
      "needs_background": "light"
     },
     "output_type": "display_data"
    },
    {
     "data": {
      "image/png": "[encoded data removed]",
      "text/plain": [
       "<Figure size 720x432 with 1 Axes>"
      ]
     },
     "metadata": {
      "needs_background": "light"
     },
     "output_type": "display_data"
    },
    {
     "data": {
      "image/png": "[encoded data removed]",
      "text/plain": [
       "<Figure size 720x432 with 1 Axes>"
      ]
     },
     "metadata": {
      "needs_background": "light"
     },
     "output_type": "display_data"
    },
    {
     "data": {
      "image/png": "[encoded data removed]",
      "text/plain": [
       "<Figure size 720x432 with 1 Axes>"
      ]
     },
     "metadata": {
      "needs_background": "light"
     },
     "output_type": "display_data"
    },
    {
     "data": {
      "image/png": "[encoded data removed]",
      "text/plain": [
       "<Figure size 720x432 with 1 Axes>"
      ]
     },
     "metadata": {
      "needs_background": "light"
     },
     "output_type": "display_data"
    },
    {
     "data": {
      "image/png": "[encoded data removed]",
      "text/plain": [
       "<Figure size 720x432 with 1 Axes>"
      ]
     },
     "metadata": {
      "needs_background": "light"
     },
     "output_type": "display_data"
    },
    {
     "data": {
      "image/png": "[encoded data removed]",
      "text/plain": [
       "<Figure size 720x432 with 1 Axes>"
      ]
     },
     "metadata": {
      "needs_background": "light"
     },
     "output_type": "display_data"
    },
    {
     "data": {
      "image/png": "[encoded data removed]",
      "text/plain": [
       "<Figure size 720x432 with 1 Axes>"
      ]
     },
     "metadata": {
      "needs_background": "light"
     },
     "output_type": "display_data"
    },
    {
     "data": {
      "image/png": "[encoded data removed]",
      "text/plain": [
       "<Figure size 720x432 with 1 Axes>"
      ]
     },
     "metadata": {
      "needs_background": "light"
     },
     "output_type": "display_data"
    },
    {
     "data": {
      "image/png": "[encoded data removed]",
      "text/plain": [
       "<Figure size 720x432 with 1 Axes>"
      ]
     },
     "metadata": {
      "needs_background": "light"
     },
     "output_type": "display_data"
    },
    {
     "data": {
      "image/png": "[encoded data removed]",
      "text/plain": [
       "<Figure size 720x432 with 1 Axes>"
      ]
     },
     "metadata": {
      "needs_background": "light"
     },
     "output_type": "display_data"
    },
    {
     "data": {
      "image/png": "[encoded data removed]",
      "text/plain": [
       "<Figure size 720x432 with 1 Axes>"
      ]
     },
     "metadata": {
      "needs_background": "light"
     },
     "output_type": "display_data"
    }
   ],
   "source": [
    "stayed = df[df['churn']==0] # клиенты, которые остались\n",
    "left = df[df['churn']==1] # клиенты, которые ушли\n",
    "\n",
    "for column in df.columns: \n",
    "    plt.figure(figsize=(10,6)) \n",
    "    plt.title(column)\n",
    "    sns.distplot(left[column])\n",
    "    sns.distplot(stayed[column])\n",
    "    plt.legend(['Клиент ушел', 'Клиент остался'])\n",
    "    plt.show()"
   ]
  },
  {
   "cell_type": "code",
   "execution_count": 15,
   "metadata": {
    "scrolled": false
   },
   "outputs": [
    {
     "data": {
      "image/png": "[encoded data removed]",
      "text/plain": [
       "<Figure size 432x288 with 1 Axes>"
      ]
     },
     "metadata": {
      "needs_background": "light"
     },
     "output_type": "display_data"
    },
    {
     "data": {
      "image/png": "[encoded data removed]",
      "text/plain": [
       "<Figure size 432x288 with 1 Axes>"
      ]
     },
     "metadata": {
      "needs_background": "light"
     },
     "output_type": "display_data"
    },
    {
     "data": {
      "image/png": "[encoded data removed]",
      "text/plain": [
       "<Figure size 432x288 with 1 Axes>"
      ]
     },
     "metadata": {
      "needs_background": "light"
     },
     "output_type": "display_data"
    },
    {
     "data": {
      "image/png": "[encoded data removed]",
      "text/plain": [
       "<Figure size 432x288 with 1 Axes>"
      ]
     },
     "metadata": {
      "needs_background": "light"
     },
     "output_type": "display_data"
    },
    {
     "data": {
      "image/png": "[encoded data removed]",
      "text/plain": [
       "<Figure size 432x288 with 1 Axes>"
      ]
     },
     "metadata": {
      "needs_background": "light"
     },
     "output_type": "display_data"
    },
    {
     "data": {
      "image/png": "[encoded data removed]",
      "text/plain": [
       "<Figure size 432x288 with 1 Axes>"
      ]
     },
     "metadata": {
      "needs_background": "light"
     },
     "output_type": "display_data"
    },
    {
     "data": {
      "image/png": "[encoded data removed]",
      "text/plain": [
       "<Figure size 432x288 with 1 Axes>"
      ]
     },
     "metadata": {
      "needs_background": "light"
     },
     "output_type": "display_data"
    },
    {
     "data": {
      "image/png": "[encoded data removed]",
      "text/plain": [
       "<Figure size 432x288 with 1 Axes>"
      ]
     },
     "metadata": {
      "needs_background": "light"
     },
     "output_type": "display_data"
    },
    {
     "data": {
      "image/png": "[encoded data removed]",
      "text/plain": [
       "<Figure size 432x288 with 1 Axes>"
      ]
     },
     "metadata": {
      "needs_background": "light"
     },
     "output_type": "display_data"
    },
    {
     "data": {
      "image/png": "[encoded data removed]",
      "text/plain": [
       "<Figure size 432x288 with 1 Axes>"
      ]
     },
     "metadata": {
      "needs_background": "light"
     },
     "output_type": "display_data"
    },
    {
     "data": {
      "image/png": "[encoded data removed]",
      "text/plain": [
       "<Figure size 432x288 with 1 Axes>"
      ]
     },
     "metadata": {
      "needs_background": "light"
     },
     "output_type": "display_data"
    },
    {
     "data": {
      "image/png": "[encoded data removed]",
      "text/plain": [
       "<Figure size 432x288 with 1 Axes>"
      ]
     },
     "metadata": {
      "needs_background": "light"
     },
     "output_type": "display_data"
    },
    {
     "data": {
      "image/png": "[encoded data removed]",
      "text/plain": [
       "<Figure size 432x288 with 1 Axes>"
      ]
     },
     "metadata": {
      "needs_background": "light"
     },
     "output_type": "display_data"
    },
    {
     "data": {
      "image/png": "[encoded data removed]",
      "text/plain": [
       "<Figure size 432x288 with 1 Axes>"
      ]
     },
     "metadata": {
      "needs_background": "light"
     },
     "output_type": "display_data"
    }
   ],
   "source": [
    "for column in df.columns:\n",
    "    df.groupby('churn')[column].hist()\n",
    "    plt.title(column)\n",
    "    plt.legend(['Клиент остался', 'Клиент ушел'])\n",
    "    plt.show()"
   ]
  },
  {
   "cell_type": "markdown",
   "metadata": {},
   "source": [
    "Больше всег оклиентов попадает в отток, которые:\n",
    "- Всего пару месяцев являются клиентами фитнес-центра, `lifetime`;\n",
    "- Покупают абонемент не более, чем на 2 месяца, `contract_period` ;\n",
    "- Срок до окончания текущего действующего абонемента в районе одного месяца, `month_to_end_contract`;\n",
    "- Минимальное количество посещений (1-2 раза в неделю/месяц), `avg_class_frequency_total` и `avg_class_frequency_current_month`.\n",
    "\n",
    "Гендер никак не влияет на отток. \n",
    "\n",
    "Лучше задерживаются те клиенты, которые являются сотрудниками компании-партнёра клуба, те, кто посещает групповые занятия, а также те, кто проживает или работает недалеко от фитнес-центра. Более отвественные клиенты в возрасте 30 лет."
   ]
  },
  {
   "cell_type": "markdown",
   "metadata": {},
   "source": [
    "### Построим матрицу корреляций и отобразим её\n"
   ]
  },
  {
   "cell_type": "code",
   "execution_count": 16,
   "metadata": {},
   "outputs": [
    {
     "data": {
      "image/png": "[encoded data removed]",
      "text/plain": [
       "<Figure size 1080x720 with 2 Axes>"
      ]
     },
     "metadata": {
      "needs_background": "light"
     },
     "output_type": "display_data"
    }
   ],
   "source": [
    "# вычисляем матрицу корреляций\n",
    "cm = df.corr() \n",
    "\n",
    "#нарисуем тепловую карту с подписями для матрицы корреляций\n",
    "plt.figure(figsize=(15,10))\n",
    "sns.heatmap(cm, annot=True, square=True) \n",
    "plt.title('Матрица корреляций')\n",
    "plt.show()"
   ]
  },
  {
   "cell_type": "markdown",
   "metadata": {},
   "source": [
    "На матрице корреляции видим мультиколлинеарные признаки - `contract_period` и `month_to_end_contract`, а также `avg_class_frequency_current_month` и `avg_class_frequency_total`. \n",
    "\n",
    "\n",
    "Также, как и на графиках выше, мы видим:\n",
    "- `phone` и `gender` никак не влияют на отток, почти нулевая корреляция с целевой переменной `churn`. \n",
    "\n",
    "На отток влияют: \n",
    "- время с момента первого обращения в фитнес-центр `lifetime`; \n",
    "- количество посещений в месяц `avg_class_frequency_current_month` и меньше взаимосвязи с посещеняими в неделю `avg_class_frequency_total`;\n",
    "- длительность текущего действующего абонемента `contract_period`;\n",
    "- cрок до окончания текущего действующего абонемента `month_to_end_contract`;\n",
    "- возраст `age`.\n",
    "\n",
    "А вот парнерские программы и приведи друга с целевой переменной почти не коррелируют."
   ]
  },
  {
   "cell_type": "code",
   "execution_count": 17,
   "metadata": {},
   "outputs": [
    {
     "name": "stdout",
     "output_type": "stream",
     "text": [
      "<class 'pandas.core.frame.DataFrame'>\n",
      "RangeIndex: 4000 entries, 0 to 3999\n",
      "Data columns (total 12 columns):\n",
      " #   Column                             Non-Null Count  Dtype  \n",
      "---  ------                             --------------  -----  \n",
      " 0   gender                             4000 non-null   int64  \n",
      " 1   near_location                      4000 non-null   int64  \n",
      " 2   partner                            4000 non-null   int64  \n",
      " 3   promo_friends                      4000 non-null   int64  \n",
      " 4   phone                              4000 non-null   int64  \n",
      " 5   contract_period                    4000 non-null   int64  \n",
      " 6   group_visits                       4000 non-null   int64  \n",
      " 7   age                                4000 non-null   int64  \n",
      " 8   avg_additional_charges_total       4000 non-null   float64\n",
      " 9   lifetime                           4000 non-null   int64  \n",
      " 10  avg_class_frequency_current_month  4000 non-null   float64\n",
      " 11  churn                              4000 non-null   int64  \n",
      "dtypes: float64(2), int64(10)\n",
      "memory usage: 375.1 KB\n"
     ]
    }
   ],
   "source": [
    "# удалим один из двух признаков, которые сильно коррелируют между собой, оставляем contract_period и avg_class_frequency_current_month\n",
    "\n",
    "df = df.drop(['month_to_end_contract', 'avg_class_frequency_total'], axis=1)\n",
    "df.info()"
   ]
  },
  {
   "cell_type": "markdown",
   "metadata": {},
   "source": [
    "## Построим модель прогнозирования оттока клиентов\n",
    "\n",
    "Построим модель бинарной классификации клиентов, где целевой признак — факт оттока клиента в следующем месяце."
   ]
  },
  {
   "cell_type": "markdown",
   "metadata": {},
   "source": [
    "### Разобьём данные на обучающую и валидационную выборку:\n"
   ]
  },
  {
   "cell_type": "code",
   "execution_count": 18,
   "metadata": {},
   "outputs": [],
   "source": [
    "# разделим наши данные на признаки (матрица X) и целевую переменную (y)\n",
    "X = df.drop(['churn'], axis=1)\n",
    "y = df['churn']\n",
    "\n",
    "# разделим выборку на обучающую и валидационную в соотношении 80:20\n",
    "X_train, X_test, y_train, y_test = train_test_split(X, y, test_size=0.2, random_state=0)"
   ]
  },
  {
   "cell_type": "markdown",
   "metadata": {},
   "source": [
    "### Стандартизируем данные:"
   ]
  },
  {
   "cell_type": "code",
   "execution_count": 19,
   "metadata": {},
   "outputs": [],
   "source": [
    "# создадим объект класса StandardScaler и применим его к обучающей выборке\n",
    "scaler = StandardScaler()\n",
    "X_train_st = scaler.fit_transform(X_train) #обучаем scaler и одновременно трансформируем матрицу для обучающей выборки\n",
    "\n",
    "# применяем стандартизацию к матрице признаков для тестовой выборки\n",
    "X_test_st = scaler.transform(X_test)"
   ]
  },
  {
   "cell_type": "markdown",
   "metadata": {},
   "source": [
    "### Обучим модель на train-выборке двумя способами:\n",
    "- логистической регрессией,\n",
    "- случайным лесом."
   ]
  },
  {
   "cell_type": "code",
   "execution_count": 20,
   "metadata": {},
   "outputs": [],
   "source": [
    "# зададим алгоритм для модели логистической регрессии\n",
    "lr_model = LogisticRegression(random_state=0)\n",
    "\n",
    "# обучим модель\n",
    "lr_model.fit(X_train_st, y_train)\n",
    "\n",
    "# воспользуемся уже обученной моделью, чтобы сделать прогнозы\n",
    "lr_predictions = lr_model.predict(X_test_st)\n",
    "lr_probabilities = lr_model.predict_proba(X_test_st)[:,1]"
   ]
  },
  {
   "cell_type": "code",
   "execution_count": 21,
   "metadata": {},
   "outputs": [],
   "source": [
    "# зададим алгоритм для новой модели на основе алгоритма случайного леса\n",
    "rf_model = RandomForestClassifier(n_estimators = 100, random_state = 0)\n",
    "\n",
    "# обучим модель случайного леса\n",
    "rf_model.fit(X_train_st, y_train)\n",
    "\n",
    "# воспользуемся уже обученной моделью, чтобы сделать прогнозы\n",
    "rf_predictions = rf_model.predict(X_test_st)\n",
    "rf_probabilities = rf_model.predict_proba(X_test_st)[:, 1]"
   ]
  },
  {
   "cell_type": "markdown",
   "metadata": {},
   "source": [
    "### Оцениим метрики accuracy, precision и recall для обеих моделей на валидационной выборке. Сравним по ним модели. И определим какая модель показала себя лучше на основании метрик?\n"
   ]
  },
  {
   "cell_type": "code",
   "execution_count": 22,
   "metadata": {},
   "outputs": [],
   "source": [
    "# определим функцию, которая будет выводить наши метрики\n",
    "\n",
    "def print_all_metrics(y_true, y_pred, y_proba, title='Метрики классификации'):\n",
    "    print(title)\n",
    "    print('\\tAccuracy: {:.2f}'.format(accuracy_score(y_true, y_pred)))\n",
    "    print('\\tPrecision: {:.2f}'.format(precision_score(y_true, y_pred)))\n",
    "    print('\\tRecall: {:.2f}'.format(recall_score(y_true, y_pred)))"
   ]
  },
  {
   "cell_type": "code",
   "execution_count": 23,
   "metadata": {},
   "outputs": [
    {
     "name": "stdout",
     "output_type": "stream",
     "text": [
      "Метрики для модели логистической регрессии:\n",
      "\tAccuracy: 0.90\n",
      "\tPrecision: 0.79\n",
      "\tRecall: 0.82\n"
     ]
    }
   ],
   "source": [
    "# выведем все метрики для модели логистической регрессии\n",
    "\n",
    "print_all_metrics(\n",
    "    y_test,\n",
    "    lr_predictions,\n",
    "    lr_probabilities,\n",
    "    title='Метрики для модели логистической регрессии:'\n",
    ")"
   ]
  },
  {
   "cell_type": "code",
   "execution_count": 24,
   "metadata": {},
   "outputs": [
    {
     "name": "stdout",
     "output_type": "stream",
     "text": [
      "Метрики для модели случайного леса:\n",
      "\tAccuracy: 0.90\n",
      "\tPrecision: 0.81\n",
      "\tRecall: 0.75\n"
     ]
    }
   ],
   "source": [
    "# выведем все метрики для модели случайного леса\n",
    "\n",
    "print_all_metrics(\n",
    "    y_test,\n",
    "    rf_predictions,\n",
    "    rf_probabilities,\n",
    "    title='Метрики для модели случайного леса:'\n",
    ")"
   ]
  },
  {
   "cell_type": "markdown",
   "metadata": {},
   "source": [
    "Доля правильных ответов (Accuracy) в моделях одинакова. Точность и полнота (Precision и Recall) чуть больше в модели логистической регрессии. Следовательно, модель логистической регрессии показала себя лучше на основании метрик."
   ]
  },
  {
   "cell_type": "markdown",
   "metadata": {},
   "source": [
    "## Сделаем кластеризацию клиентов"
   ]
  },
  {
   "cell_type": "markdown",
   "metadata": {},
   "source": [
    "### Стандартизируем данные:"
   ]
  },
  {
   "cell_type": "code",
   "execution_count": 25,
   "metadata": {},
   "outputs": [],
   "source": [
    "sc = StandardScaler()\n",
    "x_sc = sc.fit_transform(X)"
   ]
  },
  {
   "cell_type": "markdown",
   "metadata": {},
   "source": [
    "### Построим матрицу расстояний на стандартизованной матрице признаков и нарисуем дендрограмму. На основании полученного графика предположии, какое количество кластеров можно выделить."
   ]
  },
  {
   "cell_type": "code",
   "execution_count": 26,
   "metadata": {},
   "outputs": [
    {
     "data": {
      "image/png": "[encoded data removed]",
      "text/plain": [
       "<Figure size 1080x720 with 1 Axes>"
      ]
     },
     "metadata": {
      "needs_background": "light"
     },
     "output_type": "display_data"
    }
   ],
   "source": [
    "linked = linkage (x_sc, method = 'ward')\n",
    "\n",
    "# в переменной linked сохранена таблица «связок» между объектами, визуализируем как дендрограмму\n",
    "plt.figure(figsize=(15, 10))  \n",
    "dendrogram(linked, orientation='top')\n",
    "plt.title('Иерархической кластеризации')\n",
    "plt.show() "
   ]
  },
  {
   "cell_type": "markdown",
   "metadata": {},
   "source": [
    "Визуально можно выделить 4 кластера, далее по заданию число кластеров принимаем n=5."
   ]
  },
  {
   "cell_type": "markdown",
   "metadata": {},
   "source": [
    "### Обучим модель кластеризации на основании алгоритма K-Means и спрогнозируем кластеры клиентов:"
   ]
  },
  {
   "cell_type": "code",
   "execution_count": 27,
   "metadata": {},
   "outputs": [],
   "source": [
    "# задаём число кластеров, равное 5, и фиксируем значение random_state для воспроизводимости результата\n",
    "km = KMeans(n_clusters=5, random_state=0) \n",
    "\n",
    "# прогнозируем кластеры для наблюдений\n",
    "labels = km.fit_predict(x_sc)\n",
    "\n",
    "# сохраняем метки кластера в поле нашего датасета\n",
    "df['cluster'] = labels"
   ]
  },
  {
   "cell_type": "code",
   "execution_count": 28,
   "metadata": {},
   "outputs": [
    {
     "data": {
      "text/plain": [
       "2    1064\n",
       "3    1007\n",
       "0     985\n",
       "1     558\n",
       "4     386\n",
       "Name: cluster, dtype: int64"
      ]
     },
     "execution_count": 28,
     "metadata": {},
     "output_type": "execute_result"
    }
   ],
   "source": [
    "# определим количество клиентов в кластерах\n",
    "\n",
    "df['cluster'].value_counts()"
   ]
  },
  {
   "cell_type": "markdown",
   "metadata": {},
   "source": [
    "Самый многочисленный кластер под номером 2, в три раза меньше клиентов в группе номер 4."
   ]
  },
  {
   "cell_type": "markdown",
   "metadata": {},
   "source": [
    "### Посмотрим на средние значения признаков для кластеров:"
   ]
  },
  {
   "cell_type": "code",
   "execution_count": 29,
   "metadata": {
    "scrolled": true
   },
   "outputs": [
    {
     "data": {
      "text/html": [
       "<div>\n",
       "<style scoped>\n",
       "    .dataframe tbody tr th:only-of-type {\n",
       "        vertical-align: middle;\n",
       "    }\n",
       "\n",
       "    .dataframe tbody tr th {\n",
       "        vertical-align: top;\n",
       "    }\n",
       "\n",
       "    .dataframe thead th {\n",
       "        text-align: right;\n",
       "    }\n",
       "</style>\n",
       "<table border=\"1\" class=\"dataframe\">\n",
       "  <thead>\n",
       "    <tr style=\"text-align: right;\">\n",
       "      <th></th>\n",
       "      <th>gender</th>\n",
       "      <th>near_location</th>\n",
       "      <th>partner</th>\n",
       "      <th>promo_friends</th>\n",
       "      <th>phone</th>\n",
       "      <th>contract_period</th>\n",
       "      <th>group_visits</th>\n",
       "      <th>age</th>\n",
       "      <th>avg_additional_charges_total</th>\n",
       "      <th>lifetime</th>\n",
       "      <th>avg_class_frequency_current_month</th>\n",
       "      <th>churn</th>\n",
       "    </tr>\n",
       "    <tr>\n",
       "      <th>cluster</th>\n",
       "      <th></th>\n",
       "      <th></th>\n",
       "      <th></th>\n",
       "      <th></th>\n",
       "      <th></th>\n",
       "      <th></th>\n",
       "      <th></th>\n",
       "      <th></th>\n",
       "      <th></th>\n",
       "      <th></th>\n",
       "      <th></th>\n",
       "      <th></th>\n",
       "    </tr>\n",
       "  </thead>\n",
       "  <tbody>\n",
       "    <tr>\n",
       "      <th>0</th>\n",
       "      <td>0.496447</td>\n",
       "      <td>0.995939</td>\n",
       "      <td>0.892386</td>\n",
       "      <td>1.000000</td>\n",
       "      <td>1.0</td>\n",
       "      <td>6.922843</td>\n",
       "      <td>0.524873</td>\n",
       "      <td>29.606091</td>\n",
       "      <td>153.424651</td>\n",
       "      <td>4.283249</td>\n",
       "      <td>1.919520</td>\n",
       "      <td>0.119797</td>\n",
       "    </tr>\n",
       "    <tr>\n",
       "      <th>1</th>\n",
       "      <td>0.500000</td>\n",
       "      <td>0.000000</td>\n",
       "      <td>0.489247</td>\n",
       "      <td>0.078853</td>\n",
       "      <td>1.0</td>\n",
       "      <td>2.994624</td>\n",
       "      <td>0.232975</td>\n",
       "      <td>28.679211</td>\n",
       "      <td>137.125763</td>\n",
       "      <td>2.974910</td>\n",
       "      <td>1.597146</td>\n",
       "      <td>0.403226</td>\n",
       "    </tr>\n",
       "    <tr>\n",
       "      <th>2</th>\n",
       "      <td>0.500940</td>\n",
       "      <td>1.000000</td>\n",
       "      <td>0.217105</td>\n",
       "      <td>0.072368</td>\n",
       "      <td>1.0</td>\n",
       "      <td>2.010338</td>\n",
       "      <td>0.277256</td>\n",
       "      <td>27.583647</td>\n",
       "      <td>119.339956</td>\n",
       "      <td>1.922932</td>\n",
       "      <td>1.203319</td>\n",
       "      <td>0.563910</td>\n",
       "    </tr>\n",
       "    <tr>\n",
       "      <th>3</th>\n",
       "      <td>0.534260</td>\n",
       "      <td>0.996028</td>\n",
       "      <td>0.379345</td>\n",
       "      <td>0.009930</td>\n",
       "      <td>1.0</td>\n",
       "      <td>6.208540</td>\n",
       "      <td>0.538232</td>\n",
       "      <td>30.699106</td>\n",
       "      <td>176.259567</td>\n",
       "      <td>5.415094</td>\n",
       "      <td>2.324220</td>\n",
       "      <td>0.014896</td>\n",
       "    </tr>\n",
       "    <tr>\n",
       "      <th>4</th>\n",
       "      <td>0.523316</td>\n",
       "      <td>0.862694</td>\n",
       "      <td>0.471503</td>\n",
       "      <td>0.305699</td>\n",
       "      <td>0.0</td>\n",
       "      <td>4.777202</td>\n",
       "      <td>0.427461</td>\n",
       "      <td>29.297927</td>\n",
       "      <td>144.208179</td>\n",
       "      <td>3.940415</td>\n",
       "      <td>1.723967</td>\n",
       "      <td>0.266839</td>\n",
       "    </tr>\n",
       "  </tbody>\n",
       "</table>\n",
       "</div>"
      ],
      "text/plain": [
       "           gender  near_location   partner  promo_friends  phone  \\\n",
       "cluster                                                            \n",
       "0        0.496447       0.995939  0.892386       1.000000    1.0   \n",
       "1        0.500000       0.000000  0.489247       0.078853    1.0   \n",
       "2        0.500940       1.000000  0.217105       0.072368    1.0   \n",
       "3        0.534260       0.996028  0.379345       0.009930    1.0   \n",
       "4        0.523316       0.862694  0.471503       0.305699    0.0   \n",
       "\n",
       "         contract_period  group_visits        age  \\\n",
       "cluster                                             \n",
       "0               6.922843      0.524873  29.606091   \n",
       "1               2.994624      0.232975  28.679211   \n",
       "2               2.010338      0.277256  27.583647   \n",
       "3               6.208540      0.538232  30.699106   \n",
       "4               4.777202      0.427461  29.297927   \n",
       "\n",
       "         avg_additional_charges_total  lifetime  \\\n",
       "cluster                                           \n",
       "0                          153.424651  4.283249   \n",
       "1                          137.125763  2.974910   \n",
       "2                          119.339956  1.922932   \n",
       "3                          176.259567  5.415094   \n",
       "4                          144.208179  3.940415   \n",
       "\n",
       "         avg_class_frequency_current_month     churn  \n",
       "cluster                                               \n",
       "0                                 1.919520  0.119797  \n",
       "1                                 1.597146  0.403226  \n",
       "2                                 1.203319  0.563910  \n",
       "3                                 2.324220  0.014896  \n",
       "4                                 1.723967  0.266839  "
      ]
     },
     "execution_count": 29,
     "metadata": {},
     "output_type": "execute_result"
    }
   ],
   "source": [
    "# выведем статистику по средним значениям наших признаков по кластеру\n",
    "\n",
    "df.groupby('cluster').mean()"
   ]
  },
  {
   "cell_type": "markdown",
   "metadata": {},
   "source": [
    "- Группа под номером 0 - это те клиенты, которые являются сотрудниками компании-партнёра клуба,  и те, кто пришел по акции \"приведи друга\". \n",
    "- Группа под номером 1 - это те клиенты, которые живут или работают далеко от фитнес центра.\n",
    "- Группа под номером 2 - это новые клиенты, которые совсем недавно ходят в зал и приносят меньше всего выручки от допуслуг, а также имеют большой процент оттока.\n",
    "- Группа под номером 3 - это те клиенты, которые чаще посещают зал в месяц и дольше всего по времени, группа клиентов, где меньше всего оттока.\n",
    "- Группа под номером 4 - это те клиенты, которые не оставили свой номер телефона.\n",
    "\n",
    "Гендер и возраст не имеют значения."
   ]
  },
  {
   "cell_type": "markdown",
   "metadata": {},
   "source": [
    "### Построим распределения признаков для кластеров:"
   ]
  },
  {
   "cell_type": "code",
   "execution_count": 30,
   "metadata": {
    "scrolled": false
   },
   "outputs": [
    {
     "data": {
      "image/png": "[encoded data removed]",
      "text/plain": [
       "<Figure size 432x288 with 1 Axes>"
      ]
     },
     "metadata": {
      "needs_background": "light"
     },
     "output_type": "display_data"
    },
    {
     "data": {
      "image/png": "[encoded data removed]",
      "text/plain": [
       "<Figure size 432x288 with 1 Axes>"
      ]
     },
     "metadata": {
      "needs_background": "light"
     },
     "output_type": "display_data"
    },
    {
     "data": {
      "image/png": "[encoded data removed]",
      "text/plain": [
       "<Figure size 432x288 with 1 Axes>"
      ]
     },
     "metadata": {
      "needs_background": "light"
     },
     "output_type": "display_data"
    },
    {
     "data": {
      "image/png": "[encoded data removed]",
      "text/plain": [
       "<Figure size 432x288 with 1 Axes>"
      ]
     },
     "metadata": {
      "needs_background": "light"
     },
     "output_type": "display_data"
    },
    {
     "data": {
      "image/png": "[encoded data removed]",
      "text/plain": [
       "<Figure size 432x288 with 1 Axes>"
      ]
     },
     "metadata": {
      "needs_background": "light"
     },
     "output_type": "display_data"
    },
    {
     "data": {
      "image/png": "[encoded data removed]",
      "text/plain": [
       "<Figure size 432x288 with 1 Axes>"
      ]
     },
     "metadata": {
      "needs_background": "light"
     },
     "output_type": "display_data"
    },
    {
     "data": {
      "image/png": "[encoded data removed]",
      "text/plain": [
       "<Figure size 432x288 with 1 Axes>"
      ]
     },
     "metadata": {
      "needs_background": "light"
     },
     "output_type": "display_data"
    },
    {
     "data": {
      "image/png": "[encoded data removed]",
      "text/plain": [
       "<Figure size 432x288 with 1 Axes>"
      ]
     },
     "metadata": {
      "needs_background": "light"
     },
     "output_type": "display_data"
    },
    {
     "data": {
      "image/png": "[encoded data removed]",
      "text/plain": [
       "<Figure size 432x288 with 1 Axes>"
      ]
     },
     "metadata": {
      "needs_background": "light"
     },
     "output_type": "display_data"
    },
    {
     "data": {
      "image/png": "[encoded data removed]",
      "text/plain": [
       "<Figure size 432x288 with 1 Axes>"
      ]
     },
     "metadata": {
      "needs_background": "light"
     },
     "output_type": "display_data"
    },
    {
     "data": {
      "image/png": "[encoded data removed]",
      "text/plain": [
       "<Figure size 432x288 with 1 Axes>"
      ]
     },
     "metadata": {
      "needs_background": "light"
     },
     "output_type": "display_data"
    },
    {
     "data": {
      "image/png": "[encoded data removed]",
      "text/plain": [
       "<Figure size 432x288 with 1 Axes>"
      ]
     },
     "metadata": {
      "needs_background": "light"
     },
     "output_type": "display_data"
    },
    {
     "data": {
      "image/png": "[encoded data removed]",
      "text/plain": [
       "<Figure size 432x288 with 1 Axes>"
      ]
     },
     "metadata": {
      "needs_background": "light"
     },
     "output_type": "display_data"
    }
   ],
   "source": [
    "for column in df.columns:\n",
    "    sns.barplot(x='cluster', y=column, data=df)\n",
    "    plt.title(column)\n",
    "    plt.show()"
   ]
  },
  {
   "cell_type": "markdown",
   "metadata": {},
   "source": [
    "Также как и по средним значениям, на графиках видим:\n",
    "\n",
    "- Группа под номером 0 - это те клиенты, которые являются сотрудниками компании-партнёра клуба,  и те, кто пришел по акции \"приведи друга\". \n",
    "- Группа под номером 1 - это те клиенты, которые живут или работают далеко от фитнес центра.\n",
    "- Группа под номером 2 - это те клиенты, которые совсем недавно ходят в зал и приносят меньше всего выручки от допуслуг, а также имеют большой процент оттока.\n",
    "- Группа под номером 3 - это те клиенты, которые чаще посещают зал в месяц и дольше всего по времени, группа клиентов, где меньше всего оттока.\n",
    "- Группа под номером 4 - это те клиенты, которые не оставили свой номер телефона.\n",
    "\n",
    "Гендер и возраст не имеют значения."
   ]
  },
  {
   "cell_type": "markdown",
   "metadata": {},
   "source": [
    "### Для каждого полученного кластера посчитаем долю оттока: "
   ]
  },
  {
   "cell_type": "code",
   "execution_count": 31,
   "metadata": {},
   "outputs": [
    {
     "data": {
      "text/plain": [
       "2    1064\n",
       "3    1007\n",
       "0     985\n",
       "1     558\n",
       "4     386\n",
       "Name: cluster, dtype: int64"
      ]
     },
     "execution_count": 31,
     "metadata": {},
     "output_type": "execute_result"
    }
   ],
   "source": [
    "# определим количество клиентов в кластерах\n",
    "\n",
    "df['cluster'].value_counts()"
   ]
  },
  {
   "cell_type": "code",
   "execution_count": 32,
   "metadata": {},
   "outputs": [
    {
     "data": {
      "text/html": [
       "<div>\n",
       "<style scoped>\n",
       "    .dataframe tbody tr th:only-of-type {\n",
       "        vertical-align: middle;\n",
       "    }\n",
       "\n",
       "    .dataframe tbody tr th {\n",
       "        vertical-align: top;\n",
       "    }\n",
       "\n",
       "    .dataframe thead th {\n",
       "        text-align: right;\n",
       "    }\n",
       "</style>\n",
       "<table border=\"1\" class=\"dataframe\">\n",
       "  <thead>\n",
       "    <tr style=\"text-align: right;\">\n",
       "      <th></th>\n",
       "      <th>churn</th>\n",
       "    </tr>\n",
       "    <tr>\n",
       "      <th>cluster</th>\n",
       "      <th></th>\n",
       "    </tr>\n",
       "  </thead>\n",
       "  <tbody>\n",
       "    <tr>\n",
       "      <th>2</th>\n",
       "      <td>0.56</td>\n",
       "    </tr>\n",
       "    <tr>\n",
       "      <th>1</th>\n",
       "      <td>0.40</td>\n",
       "    </tr>\n",
       "    <tr>\n",
       "      <th>4</th>\n",
       "      <td>0.27</td>\n",
       "    </tr>\n",
       "    <tr>\n",
       "      <th>0</th>\n",
       "      <td>0.12</td>\n",
       "    </tr>\n",
       "    <tr>\n",
       "      <th>3</th>\n",
       "      <td>0.01</td>\n",
       "    </tr>\n",
       "  </tbody>\n",
       "</table>\n",
       "</div>"
      ],
      "text/plain": [
       "         churn\n",
       "cluster       \n",
       "2         0.56\n",
       "1         0.40\n",
       "4         0.27\n",
       "0         0.12\n",
       "3         0.01"
      ]
     },
     "execution_count": 32,
     "metadata": {},
     "output_type": "execute_result"
    }
   ],
   "source": [
    "(\n",
    "    df.groupby('cluster').agg({'churn':'mean'})\n",
    "    .sort_values(by='churn', ascending=False)\n",
    "    .round(2)\n",
    ")"
   ]
  },
  {
   "cell_type": "markdown",
   "metadata": {},
   "source": [
    "Как и заметили ранее, группа под номером 2 - это новые клиенты, которые совсем недавно ходят в зал и приносят меньше всего выручки от допуслуг, а также имеют большой процент оттока. А группа под номером 3 - это те клиенты, которые чаще посещают зал в месяц и дольше всего по времени, группа клиентов, где меньше всего оттока. Эти два кластера наиболее многочисленные."
   ]
  },
  {
   "cell_type": "markdown",
   "metadata": {},
   "source": [
    "##  Сформулируем выводы и сделаем базовые рекомендации по работе с клиентами"
   ]
  },
  {
   "cell_type": "markdown",
   "metadata": {},
   "source": [
    "**Выводы данным, полученным от заказчика:**\n",
    "- Женщин и мужчин среди клиентов фитнес-фентра примерно одинаковое количество;\n",
    "- БОльшая часть (около 85%) клиентов проживает или работает рядом с фитнес-центром;\n",
    "- Почти половина клиентов являются сотрудниками компаний-партнёпров;\n",
    "- 30% клиентов первончально записались в фитнес-центр по акции \"приведи друга\";\n",
    "- Контактые номера известны у 90% клиентов;\n",
    "- Средняя длительность текущих действующих абонементов клиентов - 4-5 месяцев;\n",
    "- Примерно 40% клиентов посещают групповые занятия;\n",
    "- Средний возраст клиентов клиентов фитнес-центра - 29 лет;\n",
    "- В среднем суммарная выручка от других услуг (массаж, кафе, спорт-товары) фитнес-центра на одного клиента - 147;\n",
    "- Средний срок до окончания текущего действующего абонемента - 4 месяца с небольшим;\n",
    "- Среднее время с момента первого обращения в фитнес-центр - около 4 месяцев (клуб недавно открылся?);\n",
    "- Средняя частота посещений за все время с начала действия абонемента - 2 раза в неделю;\n",
    "- Средняя частота посещений за последний месяц - чуть реже, но примерно также 2 раза в неделю;\n",
    "- Факт оттока в текущем месяце - 27%.\n",
    "\n",
    "Сравнивая две группы клиентов: тех, что ушли и тех, что остались, можно заметить различия средних значений признаков в длительности текущего абонемента. Пользователи, которые обладали абонементом в фитнес-центр всего-лишь 1 месяца, перестали ходить, а те, кто ходит в зал более 5 месяцев, остаются в строю. И в тоже время, влияет то, каков срок до окончания абонемента, \"сливаются\" те, у кого остается менее 2х месяцев занятий, и активны те клиенты, у которых осталось более 5 месяцев тренировок. Также, как и lifetime, чем раньше клиент стал посетителем фитнес-центра, тем меньше вероятность попасть в группу \"оттока\".\n",
    "\n",
    "**Проанализировали, какие клиенты чаще всего попадают в \"отток\":**\n",
    "\n",
    "Больше всего клиентов попадает в отток, которые:\n",
    "\n",
    "- Всего пару месяцев являются клиентами фитнес-центра, `lifetime`;\n",
    "- Покупают абонемент не более, чем на 2 месяца, `contract_period` ;\n",
    "- Срок до окончания текущего действующего абонемента в районе одного месяца, `month_to_end_contract`;\n",
    "- Минимальное количество посещений (1-2 раза в неделю/месяц), `avg_class_frequency_total` и `avg_class_frequency_current_month`.\n",
    "\n",
    "На отток влияют:\n",
    "\n",
    "- время с момента первого обращения в фитнес-центр lifetime;\n",
    "- количество посещений в месяц avg_class_frequency_current_month и меньше взаимосвязи с посещеняими в неделю avg_class_frequency_total;\n",
    "- длительность текущего действующего абонемента contract_period;\n",
    "- cрок до окончания текущего действующего абонемента month_to_end_contract;\n",
    "- возраст age.\n",
    "\n",
    "Гендер никак не влияет на отток. Лучше задерживаются те клиенты, которые являются сотрудниками компании-партнёра клуба, те, кто посещает групповые занятия, а также те, кто проживает или работает недалеко от фитнес-центра. Более отвественные клиенты в возрасте 30 лет.\n",
    "\n",
    "**Разделили клиентов фитнес-центра на 5 кластеров:**\n",
    "\n",
    "Группа под номером 0 - это те клиенты, которые являются сотрудниками компании-партнёра клуба, и те, кто пришел по акции \"приведи друга\".\n",
    "Группа под номером 1 - это те клиенты, которые живут или работают далеко от фитнес центра.\n",
    "Группа под номером 2 - это новые клиенты, которые совсем недавно ходят в зал и приносят меньше всего выручки от допуслуг, а также имеют большой процент оттока.\n",
    "Группа под номером 3 - это те клиенты, которые чаще посещают зал в месяц и дольше всего по времени, группа клиентов, где меньше всего оттока.\n",
    "Группа под номером 4 - это те клиенты, которые не оставили свой номер телефона.\n",
    "\n",
    "\n",
    "- Кластер 0\n",
    "    - Являются отрудниками компании-партнера клуба\n",
    "    - Первоначальная запись в рамках акции \"приведи друга\"\n",
    "    - Живут или работают в районе, где находится фитнес-центр\n",
    "    - Самая большая длительность абонемента, в среднем 7 месяцев\n",
    "    - Чаще всех посещают групповые занятия\n",
    "    - Отток - 12%\n",
    "    \n",
    "- Кластер 1\n",
    "    - Живут или работают далеко от фитнес-центр\n",
    "    - Реже всех посещают групповые занятия\n",
    "    - Небольшая длительность абонементы\n",
    "    - Отток - 40%\n",
    "- Кластер 2\n",
    "    - Новые клиенты, lifetime 2 месяца\n",
    "    - Минимальная длительность абонемента, в среднем 2 месяцев\n",
    "    - Реже всех в месяц посещают фитнес центр \n",
    "    - Живут или работают в районе, где находится фитнес-центр\n",
    "    - Реже всех посещают групповые занятия\n",
    "    - Приносят меньше всего выручки от допуслуг\n",
    "    - Отток - 56% - самый высокий\n",
    "- Кластер 3\n",
    "    - Постоянные клиенты, lifetime 5-6 месяцев в среднем\n",
    "    - Большая длительность абонемента, в среднем 6 месяцев\n",
    "    - Реже всех в месяц посещают фитнес центр \n",
    "    - Живут или работают в районе, где находится фитнес-центр\n",
    "    - Чаще всех посещают групповые занятия\n",
    "    - Приносят больше всего выручки от допуслуг\n",
    "    - Первое посещение не по промокоду\n",
    "    - Отток -1% - самый низкий\n",
    "- Кластер 4\n",
    "    - Не указали контактный номер\n",
    "    - Остальные признаки все где-то посередине\n",
    "    - Отток - 27%\n",
    "    \n",
    "**Рекомендации для стратегии взаимодействия с клиентами и их удержания:**\n",
    "- В отток часто попадают новые клиенты, которые приобрели абонемент всего на пару месяцев. Они редко бывают в фитнес-центре, не посещают групповые занятия, видимо стоит чем-то замотивировать данных клиентов, например, бонусным предложением о продлении абонемента или же интересными групповыми программами: мастер-класс от известного тренера;\n",
    "- Фитнес-центр редко посещают те клиенты, которые не живут и не работают рядом, стоит задуматься об открытии нового филиала или, например, предусмотреть услугу такси при покупке допуслуг;\n",
    "- Lifetime влияет на выручку от других услуг фитнес-центра, стоит обратить внимание, как удерживать постоянных клиентов, например, делать приятные скидки и слать рассылки с благодарностями, что они - ваши дорогие клиенты;\n",
    "- Проверять наличие контактных данных, чтобы все клиенты фитнес-центра своевременно получали полезные рассылки и предложения."
   ]
  },
  {
   "cell_type": "code",
   "execution_count": null,
   "metadata": {},
   "outputs": [],
   "source": []
  }
 ],
 "metadata": {
  "ExecuteTimeLog": [
   {
    "duration": 1879,
    "start_time": "2022-07-20T09:46:29.159Z"
   },
   {
    "duration": 117,
    "start_time": "2022-07-20T09:56:11.202Z"
   },
   {
    "duration": 18,
    "start_time": "2022-07-20T09:56:21.154Z"
   },
   {
    "duration": 13,
    "start_time": "2022-07-20T09:56:44.163Z"
   },
   {
    "duration": 8,
    "start_time": "2022-07-20T09:56:56.214Z"
   },
   {
    "duration": 6,
    "start_time": "2022-07-20T09:57:08.145Z"
   },
   {
    "duration": 3,
    "start_time": "2022-07-20T10:04:18.926Z"
   },
   {
    "duration": 2,
    "start_time": "2022-07-20T10:06:59.693Z"
   },
   {
    "duration": 120,
    "start_time": "2022-07-20T10:09:58.661Z"
   },
   {
    "duration": 4,
    "start_time": "2022-07-20T10:11:01.848Z"
   },
   {
    "duration": 5,
    "start_time": "2022-07-20T10:11:12.709Z"
   },
   {
    "duration": 51,
    "start_time": "2022-07-20T10:11:38.336Z"
   },
   {
    "duration": 41,
    "start_time": "2022-07-20T10:13:29.624Z"
   },
   {
    "duration": 1409,
    "start_time": "2022-07-20T10:33:46.199Z"
   },
   {
    "duration": 1701,
    "start_time": "2022-07-20T10:34:09.198Z"
   },
   {
    "duration": 47,
    "start_time": "2022-07-20T10:34:10.902Z"
   },
   {
    "duration": 14,
    "start_time": "2022-07-20T10:34:10.951Z"
   },
   {
    "duration": 12,
    "start_time": "2022-07-20T10:34:10.967Z"
   },
   {
    "duration": 36,
    "start_time": "2022-07-20T10:34:10.983Z"
   },
   {
    "duration": 8,
    "start_time": "2022-07-20T10:34:11.022Z"
   },
   {
    "duration": 30,
    "start_time": "2022-07-20T10:34:11.033Z"
   },
   {
    "duration": 16,
    "start_time": "2022-07-20T10:34:11.065Z"
   },
   {
    "duration": 54,
    "start_time": "2022-07-20T10:34:11.083Z"
   },
   {
    "duration": 4,
    "start_time": "2022-07-20T10:35:43.254Z"
   },
   {
    "duration": 13,
    "start_time": "2022-07-20T10:35:54.858Z"
   },
   {
    "duration": 1670,
    "start_time": "2022-07-20T10:36:43.309Z"
   },
   {
    "duration": 55,
    "start_time": "2022-07-20T10:36:44.982Z"
   },
   {
    "duration": 13,
    "start_time": "2022-07-20T10:36:45.039Z"
   },
   {
    "duration": 6,
    "start_time": "2022-07-20T10:36:45.054Z"
   },
   {
    "duration": 9,
    "start_time": "2022-07-20T10:36:45.062Z"
   },
   {
    "duration": 5,
    "start_time": "2022-07-20T10:36:45.073Z"
   },
   {
    "duration": 21,
    "start_time": "2022-07-20T10:36:45.113Z"
   },
   {
    "duration": 10,
    "start_time": "2022-07-20T10:36:45.136Z"
   },
   {
    "duration": 8,
    "start_time": "2022-07-20T10:36:45.148Z"
   },
   {
    "duration": 16,
    "start_time": "2022-07-20T10:36:45.158Z"
   },
   {
    "duration": 90,
    "start_time": "2022-07-20T10:36:45.176Z"
   },
   {
    "duration": 3,
    "start_time": "2022-07-20T10:36:56.494Z"
   },
   {
    "duration": 19,
    "start_time": "2022-07-20T11:08:54.284Z"
   },
   {
    "duration": 14,
    "start_time": "2022-07-20T11:09:17.722Z"
   },
   {
    "duration": 12,
    "start_time": "2022-07-20T11:10:05.437Z"
   },
   {
    "duration": 3270,
    "start_time": "2022-07-20T12:27:30.188Z"
   },
   {
    "duration": 128,
    "start_time": "2022-07-20T12:29:58.710Z"
   },
   {
    "duration": 4700,
    "start_time": "2022-07-20T12:30:09.321Z"
   },
   {
    "duration": 5,
    "start_time": "2022-07-20T12:31:01.006Z"
   },
   {
    "duration": 1810,
    "start_time": "2022-07-20T12:31:08.886Z"
   },
   {
    "duration": 49,
    "start_time": "2022-07-20T12:31:10.698Z"
   },
   {
    "duration": 14,
    "start_time": "2022-07-20T12:31:10.749Z"
   },
   {
    "duration": 9,
    "start_time": "2022-07-20T12:31:10.766Z"
   },
   {
    "duration": 9,
    "start_time": "2022-07-20T12:31:10.777Z"
   },
   {
    "duration": 8,
    "start_time": "2022-07-20T12:31:10.810Z"
   },
   {
    "duration": 8,
    "start_time": "2022-07-20T12:31:10.820Z"
   },
   {
    "duration": 9,
    "start_time": "2022-07-20T12:31:10.830Z"
   },
   {
    "duration": 6,
    "start_time": "2022-07-20T12:31:10.842Z"
   },
   {
    "duration": 17,
    "start_time": "2022-07-20T12:31:10.852Z"
   },
   {
    "duration": 114,
    "start_time": "2022-07-20T12:31:10.871Z"
   },
   {
    "duration": 25,
    "start_time": "2022-07-20T12:31:10.986Z"
   },
   {
    "duration": 16,
    "start_time": "2022-07-20T12:31:11.013Z"
   },
   {
    "duration": 146,
    "start_time": "2022-07-20T12:31:11.030Z"
   },
   {
    "duration": 0,
    "start_time": "2022-07-20T12:31:11.178Z"
   },
   {
    "duration": 0,
    "start_time": "2022-07-20T12:31:11.180Z"
   },
   {
    "duration": 1714,
    "start_time": "2022-07-20T12:31:21.590Z"
   },
   {
    "duration": 51,
    "start_time": "2022-07-20T12:31:23.307Z"
   },
   {
    "duration": 15,
    "start_time": "2022-07-20T12:31:23.360Z"
   },
   {
    "duration": 8,
    "start_time": "2022-07-20T12:31:23.377Z"
   },
   {
    "duration": 24,
    "start_time": "2022-07-20T12:31:23.388Z"
   },
   {
    "duration": 4,
    "start_time": "2022-07-20T12:31:23.415Z"
   },
   {
    "duration": 14,
    "start_time": "2022-07-20T12:31:23.421Z"
   },
   {
    "duration": 23,
    "start_time": "2022-07-20T12:31:23.438Z"
   },
   {
    "duration": 16,
    "start_time": "2022-07-20T12:31:23.463Z"
   },
   {
    "duration": 41,
    "start_time": "2022-07-20T12:31:23.481Z"
   },
   {
    "duration": 53,
    "start_time": "2022-07-20T12:31:23.524Z"
   },
   {
    "duration": 39,
    "start_time": "2022-07-20T12:31:23.579Z"
   },
   {
    "duration": 16,
    "start_time": "2022-07-20T12:31:23.620Z"
   },
   {
    "duration": 4689,
    "start_time": "2022-07-20T12:31:23.640Z"
   },
   {
    "duration": 3165,
    "start_time": "2022-07-20T12:31:28.331Z"
   },
   {
    "duration": 4401,
    "start_time": "2022-07-20T12:31:44.130Z"
   },
   {
    "duration": 4442,
    "start_time": "2022-07-20T12:32:54.467Z"
   },
   {
    "duration": 4020,
    "start_time": "2022-07-20T12:33:16.762Z"
   },
   {
    "duration": 4385,
    "start_time": "2022-07-20T12:33:59.163Z"
   },
   {
    "duration": 1588,
    "start_time": "2022-07-20T12:35:22.585Z"
   },
   {
    "duration": 1698,
    "start_time": "2022-07-20T12:35:54.298Z"
   },
   {
    "duration": 1488,
    "start_time": "2022-07-20T12:36:07.342Z"
   },
   {
    "duration": 1521,
    "start_time": "2022-07-20T12:36:14.589Z"
   },
   {
    "duration": 1601,
    "start_time": "2022-07-20T12:36:25.501Z"
   },
   {
    "duration": 1688,
    "start_time": "2022-07-20T12:37:31.229Z"
   },
   {
    "duration": 130,
    "start_time": "2022-07-20T12:41:52.028Z"
   },
   {
    "duration": 1506,
    "start_time": "2022-07-20T12:46:30.285Z"
   },
   {
    "duration": 8,
    "start_time": "2022-07-20T12:47:43.393Z"
   },
   {
    "duration": 7,
    "start_time": "2022-07-20T12:47:45.592Z"
   },
   {
    "duration": 7,
    "start_time": "2022-07-20T12:47:49.191Z"
   },
   {
    "duration": 21,
    "start_time": "2022-07-20T13:18:31.156Z"
   },
   {
    "duration": 14,
    "start_time": "2022-07-20T13:22:18.297Z"
   },
   {
    "duration": 11,
    "start_time": "2022-07-20T13:23:57.915Z"
   },
   {
    "duration": 11,
    "start_time": "2022-07-20T13:24:45.525Z"
   },
   {
    "duration": 3,
    "start_time": "2022-07-20T13:25:13.920Z"
   },
   {
    "duration": 1693,
    "start_time": "2022-07-20T13:26:30.794Z"
   },
   {
    "duration": 57,
    "start_time": "2022-07-20T13:26:32.489Z"
   },
   {
    "duration": 15,
    "start_time": "2022-07-20T13:26:32.549Z"
   },
   {
    "duration": 7,
    "start_time": "2022-07-20T13:26:32.566Z"
   },
   {
    "duration": 34,
    "start_time": "2022-07-20T13:26:32.576Z"
   },
   {
    "duration": 4,
    "start_time": "2022-07-20T13:26:32.613Z"
   },
   {
    "duration": 8,
    "start_time": "2022-07-20T13:26:32.620Z"
   },
   {
    "duration": 7,
    "start_time": "2022-07-20T13:26:32.630Z"
   },
   {
    "duration": 5,
    "start_time": "2022-07-20T13:26:32.639Z"
   },
   {
    "duration": 15,
    "start_time": "2022-07-20T13:26:32.646Z"
   },
   {
    "duration": 87,
    "start_time": "2022-07-20T13:26:32.663Z"
   },
   {
    "duration": 13,
    "start_time": "2022-07-20T13:26:32.752Z"
   },
   {
    "duration": 42,
    "start_time": "2022-07-20T13:26:32.768Z"
   },
   {
    "duration": 4442,
    "start_time": "2022-07-20T13:26:32.813Z"
   },
   {
    "duration": 1649,
    "start_time": "2022-07-20T13:26:37.257Z"
   },
   {
    "duration": 19,
    "start_time": "2022-07-20T13:26:38.908Z"
   },
   {
    "duration": 185,
    "start_time": "2022-07-20T13:26:38.929Z"
   },
   {
    "duration": 101,
    "start_time": "2022-07-20T13:30:21.814Z"
   },
   {
    "duration": 14,
    "start_time": "2022-07-20T13:30:57.326Z"
   },
   {
    "duration": 123,
    "start_time": "2022-07-20T13:31:13.506Z"
   },
   {
    "duration": 5,
    "start_time": "2022-07-20T13:31:39.275Z"
   },
   {
    "duration": 1563,
    "start_time": "2022-07-20T13:31:48.112Z"
   },
   {
    "duration": 47,
    "start_time": "2022-07-20T13:31:49.677Z"
   },
   {
    "duration": 15,
    "start_time": "2022-07-20T13:31:49.725Z"
   },
   {
    "duration": 9,
    "start_time": "2022-07-20T13:31:49.743Z"
   },
   {
    "duration": 10,
    "start_time": "2022-07-20T13:31:49.754Z"
   },
   {
    "duration": 3,
    "start_time": "2022-07-20T13:31:49.767Z"
   },
   {
    "duration": 5,
    "start_time": "2022-07-20T13:31:49.810Z"
   },
   {
    "duration": 17,
    "start_time": "2022-07-20T13:31:49.817Z"
   },
   {
    "duration": 9,
    "start_time": "2022-07-20T13:31:49.835Z"
   },
   {
    "duration": 13,
    "start_time": "2022-07-20T13:31:49.847Z"
   },
   {
    "duration": 89,
    "start_time": "2022-07-20T13:31:49.862Z"
   },
   {
    "duration": 10,
    "start_time": "2022-07-20T13:31:49.953Z"
   },
   {
    "duration": 11,
    "start_time": "2022-07-20T13:31:49.965Z"
   },
   {
    "duration": 4509,
    "start_time": "2022-07-20T13:31:49.978Z"
   },
   {
    "duration": 1611,
    "start_time": "2022-07-20T13:31:54.489Z"
   },
   {
    "duration": 20,
    "start_time": "2022-07-20T13:31:56.102Z"
   },
   {
    "duration": 95,
    "start_time": "2022-07-20T13:31:56.125Z"
   },
   {
    "duration": 596,
    "start_time": "2022-07-20T13:31:56.223Z"
   },
   {
    "duration": 5,
    "start_time": "2022-07-20T13:35:30.905Z"
   },
   {
    "duration": 131,
    "start_time": "2022-07-20T13:37:13.870Z"
   },
   {
    "duration": 15,
    "start_time": "2022-07-20T13:37:17.895Z"
   },
   {
    "duration": 31,
    "start_time": "2022-07-20T13:37:29.386Z"
   },
   {
    "duration": 427,
    "start_time": "2022-07-20T13:37:30.286Z"
   },
   {
    "duration": 7,
    "start_time": "2022-07-20T13:37:31.311Z"
   },
   {
    "duration": 30,
    "start_time": "2022-07-20T13:37:32.090Z"
   },
   {
    "duration": 6,
    "start_time": "2022-07-20T13:38:18.713Z"
   },
   {
    "duration": 1721,
    "start_time": "2022-07-20T13:38:26.931Z"
   },
   {
    "duration": 49,
    "start_time": "2022-07-20T13:38:28.654Z"
   },
   {
    "duration": 15,
    "start_time": "2022-07-20T13:38:28.705Z"
   },
   {
    "duration": 8,
    "start_time": "2022-07-20T13:38:28.721Z"
   },
   {
    "duration": 14,
    "start_time": "2022-07-20T13:38:28.732Z"
   },
   {
    "duration": 4,
    "start_time": "2022-07-20T13:38:28.748Z"
   },
   {
    "duration": 7,
    "start_time": "2022-07-20T13:38:28.754Z"
   },
   {
    "duration": 51,
    "start_time": "2022-07-20T13:38:28.763Z"
   },
   {
    "duration": 9,
    "start_time": "2022-07-20T13:38:28.816Z"
   },
   {
    "duration": 24,
    "start_time": "2022-07-20T13:38:28.827Z"
   },
   {
    "duration": 109,
    "start_time": "2022-07-20T13:38:28.854Z"
   },
   {
    "duration": 12,
    "start_time": "2022-07-20T13:38:28.965Z"
   },
   {
    "duration": 39,
    "start_time": "2022-07-20T13:38:28.980Z"
   },
   {
    "duration": 4926,
    "start_time": "2022-07-20T13:38:29.024Z"
   },
   {
    "duration": 1749,
    "start_time": "2022-07-20T13:38:33.952Z"
   },
   {
    "duration": 22,
    "start_time": "2022-07-20T13:38:35.709Z"
   },
   {
    "duration": 2979,
    "start_time": "2022-07-20T13:38:35.733Z"
   },
   {
    "duration": 549,
    "start_time": "2022-07-20T13:38:38.716Z"
   },
   {
    "duration": 5,
    "start_time": "2022-07-20T13:38:39.267Z"
   },
   {
    "duration": 13,
    "start_time": "2022-07-20T13:38:39.274Z"
   },
   {
    "duration": 28,
    "start_time": "2022-07-20T13:38:39.290Z"
   },
   {
    "duration": 3,
    "start_time": "2022-07-20T13:43:00.963Z"
   },
   {
    "duration": 8,
    "start_time": "2022-07-20T13:46:42.851Z"
   },
   {
    "duration": 157,
    "start_time": "2022-07-20T13:47:06.355Z"
   },
   {
    "duration": 412,
    "start_time": "2022-07-20T13:47:07.856Z"
   },
   {
    "duration": 714,
    "start_time": "2022-07-20T13:48:26.101Z"
   },
   {
    "duration": 609,
    "start_time": "2022-07-20T13:48:26.818Z"
   },
   {
    "duration": 4,
    "start_time": "2022-07-20T13:48:29.169Z"
   },
   {
    "duration": 10,
    "start_time": "2022-07-20T13:48:29.656Z"
   },
   {
    "duration": 10,
    "start_time": "2022-07-20T13:48:30.217Z"
   },
   {
    "duration": 10,
    "start_time": "2022-07-20T13:49:22.289Z"
   },
   {
    "duration": 11,
    "start_time": "2022-07-20T13:49:27.385Z"
   },
   {
    "duration": 11,
    "start_time": "2022-07-20T13:54:48.762Z"
   },
   {
    "duration": 102,
    "start_time": "2022-07-20T13:54:58.409Z"
   },
   {
    "duration": 427,
    "start_time": "2022-07-20T13:55:05.097Z"
   },
   {
    "duration": 6,
    "start_time": "2022-07-20T13:55:07.151Z"
   },
   {
    "duration": 7,
    "start_time": "2022-07-20T13:55:12.955Z"
   },
   {
    "duration": 9,
    "start_time": "2022-07-20T13:55:13.265Z"
   },
   {
    "duration": 9,
    "start_time": "2022-07-20T13:56:17.253Z"
   },
   {
    "duration": 116,
    "start_time": "2022-07-20T13:56:46.055Z"
   },
   {
    "duration": 1677,
    "start_time": "2022-07-20T13:57:03.061Z"
   },
   {
    "duration": 49,
    "start_time": "2022-07-20T13:57:04.740Z"
   },
   {
    "duration": 13,
    "start_time": "2022-07-20T13:57:04.790Z"
   },
   {
    "duration": 8,
    "start_time": "2022-07-20T13:57:04.806Z"
   },
   {
    "duration": 11,
    "start_time": "2022-07-20T13:57:04.815Z"
   },
   {
    "duration": 3,
    "start_time": "2022-07-20T13:57:04.828Z"
   },
   {
    "duration": 9,
    "start_time": "2022-07-20T13:57:04.833Z"
   },
   {
    "duration": 7,
    "start_time": "2022-07-20T13:57:04.844Z"
   },
   {
    "duration": 7,
    "start_time": "2022-07-20T13:57:04.853Z"
   },
   {
    "duration": 50,
    "start_time": "2022-07-20T13:57:04.864Z"
   },
   {
    "duration": 50,
    "start_time": "2022-07-20T13:57:04.916Z"
   },
   {
    "duration": 13,
    "start_time": "2022-07-20T13:57:04.968Z"
   },
   {
    "duration": 17,
    "start_time": "2022-07-20T13:57:05.010Z"
   },
   {
    "duration": 4514,
    "start_time": "2022-07-20T13:57:05.029Z"
   },
   {
    "duration": 1621,
    "start_time": "2022-07-20T13:57:09.546Z"
   },
   {
    "duration": 7,
    "start_time": "2022-07-20T13:57:11.169Z"
   },
   {
    "duration": 13,
    "start_time": "2022-07-20T13:57:11.178Z"
   },
   {
    "duration": 110,
    "start_time": "2022-07-20T13:57:11.210Z"
   },
   {
    "duration": 528,
    "start_time": "2022-07-20T13:57:11.412Z"
   },
   {
    "duration": 6,
    "start_time": "2022-07-20T13:57:11.943Z"
   },
   {
    "duration": 16,
    "start_time": "2022-07-20T13:57:11.953Z"
   },
   {
    "duration": 29,
    "start_time": "2022-07-20T13:57:11.971Z"
   },
   {
    "duration": 20,
    "start_time": "2022-07-20T13:57:12.002Z"
   },
   {
    "duration": 643,
    "start_time": "2022-07-20T13:57:12.024Z"
   },
   {
    "duration": 124718,
    "start_time": "2022-07-20T14:00:45.418Z"
   },
   {
    "duration": 1894,
    "start_time": "2022-07-20T14:03:21.517Z"
   },
   {
    "duration": 1616,
    "start_time": "2022-07-20T14:03:26.394Z"
   },
   {
    "duration": 1516,
    "start_time": "2022-07-20T14:03:44.127Z"
   },
   {
    "duration": 1705,
    "start_time": "2022-07-20T14:03:49.906Z"
   },
   {
    "duration": 1450,
    "start_time": "2022-07-20T14:04:07.662Z"
   },
   {
    "duration": 1535,
    "start_time": "2022-07-20T14:04:20.476Z"
   },
   {
    "duration": 1453,
    "start_time": "2022-07-20T14:04:57.558Z"
   },
   {
    "duration": 1547,
    "start_time": "2022-07-20T14:05:13.966Z"
   },
   {
    "duration": 1390,
    "start_time": "2022-07-20T14:05:24.326Z"
   },
   {
    "duration": 21,
    "start_time": "2022-07-20T14:08:41.156Z"
   },
   {
    "duration": 12,
    "start_time": "2022-07-20T14:10:19.094Z"
   },
   {
    "duration": 4,
    "start_time": "2022-07-20T14:10:45.894Z"
   },
   {
    "duration": 5,
    "start_time": "2022-07-20T14:10:57.666Z"
   },
   {
    "duration": 1516,
    "start_time": "2022-07-20T14:11:04.757Z"
   },
   {
    "duration": 49,
    "start_time": "2022-07-20T14:11:06.275Z"
   },
   {
    "duration": 14,
    "start_time": "2022-07-20T14:11:06.326Z"
   },
   {
    "duration": 13,
    "start_time": "2022-07-20T14:11:06.342Z"
   },
   {
    "duration": 13,
    "start_time": "2022-07-20T14:11:06.358Z"
   },
   {
    "duration": 7,
    "start_time": "2022-07-20T14:11:06.373Z"
   },
   {
    "duration": 33,
    "start_time": "2022-07-20T14:11:06.381Z"
   },
   {
    "duration": 13,
    "start_time": "2022-07-20T14:11:06.416Z"
   },
   {
    "duration": 15,
    "start_time": "2022-07-20T14:11:06.432Z"
   },
   {
    "duration": 17,
    "start_time": "2022-07-20T14:11:06.449Z"
   },
   {
    "duration": 75,
    "start_time": "2022-07-20T14:11:06.468Z"
   },
   {
    "duration": 11,
    "start_time": "2022-07-20T14:11:06.545Z"
   },
   {
    "duration": 19,
    "start_time": "2022-07-20T14:11:06.558Z"
   },
   {
    "duration": 4400,
    "start_time": "2022-07-20T14:11:06.581Z"
   },
   {
    "duration": 1661,
    "start_time": "2022-07-20T14:11:10.983Z"
   },
   {
    "duration": 7,
    "start_time": "2022-07-20T14:11:12.645Z"
   },
   {
    "duration": 15,
    "start_time": "2022-07-20T14:11:12.654Z"
   },
   {
    "duration": 246,
    "start_time": "2022-07-20T14:11:12.671Z"
   },
   {
    "duration": 594,
    "start_time": "2022-07-20T14:11:12.920Z"
   },
   {
    "duration": 4,
    "start_time": "2022-07-20T14:11:13.515Z"
   },
   {
    "duration": 33,
    "start_time": "2022-07-20T14:11:13.520Z"
   },
   {
    "duration": 21,
    "start_time": "2022-07-20T14:11:13.555Z"
   },
   {
    "duration": 13,
    "start_time": "2022-07-20T14:11:13.578Z"
   },
   {
    "duration": 1577,
    "start_time": "2022-07-20T14:12:48.223Z"
   },
   {
    "duration": 47,
    "start_time": "2022-07-20T14:12:49.803Z"
   },
   {
    "duration": 13,
    "start_time": "2022-07-20T14:12:49.852Z"
   },
   {
    "duration": 17,
    "start_time": "2022-07-20T14:12:49.867Z"
   },
   {
    "duration": 10,
    "start_time": "2022-07-20T14:12:49.886Z"
   },
   {
    "duration": 12,
    "start_time": "2022-07-20T14:12:49.898Z"
   },
   {
    "duration": 6,
    "start_time": "2022-07-20T14:12:49.912Z"
   },
   {
    "duration": 14,
    "start_time": "2022-07-20T14:12:49.920Z"
   },
   {
    "duration": 8,
    "start_time": "2022-07-20T14:12:49.937Z"
   },
   {
    "duration": 24,
    "start_time": "2022-07-20T14:12:49.947Z"
   },
   {
    "duration": 64,
    "start_time": "2022-07-20T14:12:49.973Z"
   },
   {
    "duration": 12,
    "start_time": "2022-07-20T14:12:50.039Z"
   },
   {
    "duration": 12,
    "start_time": "2022-07-20T14:12:50.053Z"
   },
   {
    "duration": 4392,
    "start_time": "2022-07-20T14:12:50.068Z"
   },
   {
    "duration": 1652,
    "start_time": "2022-07-20T14:12:54.462Z"
   },
   {
    "duration": 7,
    "start_time": "2022-07-20T14:12:56.116Z"
   },
   {
    "duration": 20,
    "start_time": "2022-07-20T14:12:56.124Z"
   },
   {
    "duration": 170,
    "start_time": "2022-07-20T14:12:56.146Z"
   },
   {
    "duration": 588,
    "start_time": "2022-07-20T14:12:56.319Z"
   },
   {
    "duration": 4,
    "start_time": "2022-07-20T14:12:56.909Z"
   },
   {
    "duration": 12,
    "start_time": "2022-07-20T14:12:56.915Z"
   },
   {
    "duration": 9,
    "start_time": "2022-07-20T14:12:56.929Z"
   },
   {
    "duration": 8,
    "start_time": "2022-07-20T14:12:56.940Z"
   },
   {
    "duration": 121911,
    "start_time": "2022-07-20T14:12:56.950Z"
   },
   {
    "duration": 1651,
    "start_time": "2022-07-20T14:14:58.863Z"
   },
   {
    "duration": 104,
    "start_time": "2022-07-20T14:15:00.516Z"
   },
   {
    "duration": 139,
    "start_time": "2022-07-20T14:15:00.622Z"
   },
   {
    "duration": 38682,
    "start_time": "2022-07-20T14:30:08.083Z"
   },
   {
    "duration": 20,
    "start_time": "2022-07-20T14:35:22.148Z"
   },
   {
    "duration": 18,
    "start_time": "2022-07-20T14:35:45.601Z"
   },
   {
    "duration": 18,
    "start_time": "2022-07-20T14:35:58.189Z"
   },
   {
    "duration": 439,
    "start_time": "2022-07-20T14:40:32.605Z"
   },
   {
    "duration": 22,
    "start_time": "2022-07-20T14:41:26.838Z"
   },
   {
    "duration": 306,
    "start_time": "2022-07-20T14:41:40.761Z"
   },
   {
    "duration": 324,
    "start_time": "2022-07-20T14:42:41.556Z"
   },
   {
    "duration": 19,
    "start_time": "2022-07-20T14:43:07.457Z"
   },
   {
    "duration": 7,
    "start_time": "2022-07-20T14:43:19.853Z"
   },
   {
    "duration": 9,
    "start_time": "2022-07-20T14:43:24.521Z"
   },
   {
    "duration": 17,
    "start_time": "2022-07-20T14:43:31.322Z"
   },
   {
    "duration": 15,
    "start_time": "2022-07-20T14:43:35.412Z"
   },
   {
    "duration": 30,
    "start_time": "2022-07-20T14:43:38.221Z"
   },
   {
    "duration": 20,
    "start_time": "2022-07-20T14:43:56.717Z"
   },
   {
    "duration": 317,
    "start_time": "2022-07-20T14:43:59.474Z"
   },
   {
    "duration": 324,
    "start_time": "2022-07-20T14:44:11.008Z"
   },
   {
    "duration": 4963,
    "start_time": "2022-07-20T14:47:23.371Z"
   },
   {
    "duration": 4966,
    "start_time": "2022-07-20T14:47:42.059Z"
   },
   {
    "duration": 4356,
    "start_time": "2022-07-20T14:48:10.259Z"
   },
   {
    "duration": 4559,
    "start_time": "2022-07-20T14:48:20.877Z"
   },
   {
    "duration": 1309,
    "start_time": "2022-07-20T14:50:23.657Z"
   },
   {
    "duration": 3014,
    "start_time": "2022-07-20T14:50:33.974Z"
   },
   {
    "duration": 31,
    "start_time": "2022-07-20T15:10:05.055Z"
   },
   {
    "duration": 12,
    "start_time": "2022-07-20T15:10:07.508Z"
   },
   {
    "duration": 41,
    "start_time": "2022-07-20T15:10:12.420Z"
   },
   {
    "duration": 45,
    "start_time": "2022-07-20T15:10:17.559Z"
   },
   {
    "duration": 41,
    "start_time": "2022-07-20T15:10:28.907Z"
   },
   {
    "duration": 1604,
    "start_time": "2022-07-20T15:10:37.228Z"
   },
   {
    "duration": 48,
    "start_time": "2022-07-20T15:10:38.834Z"
   },
   {
    "duration": 14,
    "start_time": "2022-07-20T15:10:38.885Z"
   },
   {
    "duration": 10,
    "start_time": "2022-07-20T15:10:38.902Z"
   },
   {
    "duration": 494,
    "start_time": "2022-07-20T15:10:38.914Z"
   },
   {
    "duration": 4,
    "start_time": "2022-07-20T15:10:39.410Z"
   },
   {
    "duration": 18,
    "start_time": "2022-07-20T15:10:39.415Z"
   },
   {
    "duration": 9,
    "start_time": "2022-07-20T15:10:39.434Z"
   },
   {
    "duration": 5,
    "start_time": "2022-07-20T15:10:39.445Z"
   },
   {
    "duration": 11,
    "start_time": "2022-07-20T15:10:39.453Z"
   },
   {
    "duration": 74,
    "start_time": "2022-07-20T15:10:39.466Z"
   },
   {
    "duration": 11,
    "start_time": "2022-07-20T15:10:39.541Z"
   },
   {
    "duration": 14,
    "start_time": "2022-07-20T15:10:39.554Z"
   },
   {
    "duration": 4542,
    "start_time": "2022-07-20T15:10:39.570Z"
   },
   {
    "duration": 1586,
    "start_time": "2022-07-20T15:10:44.114Z"
   },
   {
    "duration": 7,
    "start_time": "2022-07-20T15:10:45.711Z"
   },
   {
    "duration": 14,
    "start_time": "2022-07-20T15:10:45.719Z"
   },
   {
    "duration": 182,
    "start_time": "2022-07-20T15:10:45.735Z"
   },
   {
    "duration": 505,
    "start_time": "2022-07-20T15:10:46.009Z"
   },
   {
    "duration": 4,
    "start_time": "2022-07-20T15:10:46.516Z"
   },
   {
    "duration": 10,
    "start_time": "2022-07-20T15:10:46.523Z"
   },
   {
    "duration": 9,
    "start_time": "2022-07-20T15:10:46.535Z"
   },
   {
    "duration": 9,
    "start_time": "2022-07-20T15:10:46.546Z"
   },
   {
    "duration": 1576,
    "start_time": "2022-07-20T15:11:37.954Z"
   },
   {
    "duration": 47,
    "start_time": "2022-07-20T15:11:39.532Z"
   },
   {
    "duration": 12,
    "start_time": "2022-07-20T15:11:39.581Z"
   },
   {
    "duration": 10,
    "start_time": "2022-07-20T15:11:39.595Z"
   },
   {
    "duration": 11,
    "start_time": "2022-07-20T15:11:39.607Z"
   },
   {
    "duration": 4,
    "start_time": "2022-07-20T15:11:39.620Z"
   },
   {
    "duration": 8,
    "start_time": "2022-07-20T15:11:39.625Z"
   },
   {
    "duration": 7,
    "start_time": "2022-07-20T15:11:39.636Z"
   },
   {
    "duration": 11,
    "start_time": "2022-07-20T15:11:39.644Z"
   },
   {
    "duration": 20,
    "start_time": "2022-07-20T15:11:39.657Z"
   },
   {
    "duration": 78,
    "start_time": "2022-07-20T15:11:39.679Z"
   },
   {
    "duration": 13,
    "start_time": "2022-07-20T15:11:39.760Z"
   },
   {
    "duration": 35,
    "start_time": "2022-07-20T15:11:39.775Z"
   },
   {
    "duration": 4408,
    "start_time": "2022-07-20T15:11:39.812Z"
   },
   {
    "duration": 1559,
    "start_time": "2022-07-20T15:11:44.222Z"
   },
   {
    "duration": 8,
    "start_time": "2022-07-20T15:11:45.782Z"
   },
   {
    "duration": 27,
    "start_time": "2022-07-20T15:11:45.791Z"
   },
   {
    "duration": 203,
    "start_time": "2022-07-20T15:11:45.820Z"
   },
   {
    "duration": 557,
    "start_time": "2022-07-20T15:11:46.112Z"
   },
   {
    "duration": 4,
    "start_time": "2022-07-20T15:11:46.671Z"
   },
   {
    "duration": 13,
    "start_time": "2022-07-20T15:11:46.677Z"
   },
   {
    "duration": 21,
    "start_time": "2022-07-20T15:11:46.692Z"
   },
   {
    "duration": 9,
    "start_time": "2022-07-20T15:11:46.716Z"
   },
   {
    "duration": 1608,
    "start_time": "2022-07-20T15:12:34.055Z"
   },
   {
    "duration": 60,
    "start_time": "2022-07-20T15:12:35.665Z"
   },
   {
    "duration": 13,
    "start_time": "2022-07-20T15:12:35.726Z"
   },
   {
    "duration": 7,
    "start_time": "2022-07-20T15:12:35.741Z"
   },
   {
    "duration": 9,
    "start_time": "2022-07-20T15:12:35.750Z"
   },
   {
    "duration": 5,
    "start_time": "2022-07-20T15:12:35.760Z"
   },
   {
    "duration": 9,
    "start_time": "2022-07-20T15:12:35.767Z"
   },
   {
    "duration": 39,
    "start_time": "2022-07-20T15:12:35.778Z"
   },
   {
    "duration": 8,
    "start_time": "2022-07-20T15:12:35.819Z"
   },
   {
    "duration": 18,
    "start_time": "2022-07-20T15:12:35.831Z"
   },
   {
    "duration": 54,
    "start_time": "2022-07-20T15:12:35.851Z"
   },
   {
    "duration": 20,
    "start_time": "2022-07-20T15:12:35.906Z"
   },
   {
    "duration": 13,
    "start_time": "2022-07-20T15:12:35.928Z"
   },
   {
    "duration": 4604,
    "start_time": "2022-07-20T15:12:35.945Z"
   },
   {
    "duration": 1700,
    "start_time": "2022-07-20T15:12:40.550Z"
   },
   {
    "duration": 8,
    "start_time": "2022-07-20T15:12:42.252Z"
   },
   {
    "duration": 24,
    "start_time": "2022-07-20T15:12:42.261Z"
   },
   {
    "duration": 546,
    "start_time": "2022-07-20T15:12:42.287Z"
   },
   {
    "duration": 529,
    "start_time": "2022-07-20T15:12:42.912Z"
   },
   {
    "duration": 3,
    "start_time": "2022-07-20T15:12:43.443Z"
   },
   {
    "duration": 12,
    "start_time": "2022-07-20T15:12:43.448Z"
   },
   {
    "duration": 7,
    "start_time": "2022-07-20T15:12:43.462Z"
   },
   {
    "duration": 8,
    "start_time": "2022-07-20T15:12:43.471Z"
   },
   {
    "duration": 127990,
    "start_time": "2022-07-20T15:12:43.481Z"
   },
   {
    "duration": 1145,
    "start_time": "2022-07-20T15:14:51.473Z"
   },
   {
    "duration": 108,
    "start_time": "2022-07-20T15:14:52.621Z"
   },
   {
    "duration": 17,
    "start_time": "2022-07-20T15:14:52.731Z"
   },
   {
    "duration": 6172,
    "start_time": "2022-07-20T15:14:52.749Z"
   },
   {
    "duration": 0,
    "start_time": "2022-07-20T15:14:58.923Z"
   },
   {
    "duration": 0,
    "start_time": "2022-07-20T15:14:58.924Z"
   },
   {
    "duration": 0,
    "start_time": "2022-07-20T15:14:58.926Z"
   },
   {
    "duration": 0,
    "start_time": "2022-07-20T15:14:58.927Z"
   },
   {
    "duration": 21,
    "start_time": "2022-07-20T15:25:19.755Z"
   },
   {
    "duration": 24,
    "start_time": "2022-07-20T15:25:20.484Z"
   },
   {
    "duration": 21,
    "start_time": "2022-07-20T15:26:00.476Z"
   },
   {
    "duration": 1364,
    "start_time": "2022-07-20T15:26:34.465Z"
   },
   {
    "duration": 21,
    "start_time": "2022-07-20T15:29:53.784Z"
   },
   {
    "duration": 21,
    "start_time": "2022-07-20T15:30:03.373Z"
   },
   {
    "duration": 20,
    "start_time": "2022-07-20T15:30:11.325Z"
   },
   {
    "duration": 15,
    "start_time": "2022-07-20T15:30:53.061Z"
   },
   {
    "duration": 19,
    "start_time": "2022-07-20T15:32:04.988Z"
   },
   {
    "duration": 19,
    "start_time": "2022-07-20T15:32:20.493Z"
   },
   {
    "duration": 18,
    "start_time": "2022-07-20T15:32:29.673Z"
   },
   {
    "duration": 6,
    "start_time": "2022-07-20T15:32:35.573Z"
   },
   {
    "duration": 17,
    "start_time": "2022-07-20T15:32:38.076Z"
   },
   {
    "duration": 15,
    "start_time": "2022-07-20T15:32:55.682Z"
   },
   {
    "duration": 1520,
    "start_time": "2022-07-20T15:32:59.296Z"
   },
   {
    "duration": 108,
    "start_time": "2022-07-20T15:33:00.819Z"
   },
   {
    "duration": 19,
    "start_time": "2022-07-20T15:33:00.929Z"
   },
   {
    "duration": 17,
    "start_time": "2022-07-20T15:33:04.654Z"
   },
   {
    "duration": 14,
    "start_time": "2022-07-20T15:34:25.280Z"
   },
   {
    "duration": 13,
    "start_time": "2022-07-20T15:34:52.254Z"
   },
   {
    "duration": 21,
    "start_time": "2022-07-20T15:34:55.085Z"
   },
   {
    "duration": 12,
    "start_time": "2022-07-20T15:34:55.397Z"
   },
   {
    "duration": 20,
    "start_time": "2022-07-20T15:34:58.060Z"
   },
   {
    "duration": 13,
    "start_time": "2022-07-20T15:34:58.351Z"
   },
   {
    "duration": 21,
    "start_time": "2022-07-20T15:35:06.665Z"
   },
   {
    "duration": 13,
    "start_time": "2022-07-20T15:35:06.985Z"
   },
   {
    "duration": 10,
    "start_time": "2022-07-20T15:35:10.638Z"
   },
   {
    "duration": 22,
    "start_time": "2022-07-20T15:35:13.164Z"
   },
   {
    "duration": 21,
    "start_time": "2022-07-20T15:35:13.519Z"
   },
   {
    "duration": 17,
    "start_time": "2022-07-20T15:35:20.242Z"
   },
   {
    "duration": 4,
    "start_time": "2022-07-20T15:35:29.756Z"
   },
   {
    "duration": 16,
    "start_time": "2022-07-20T15:35:31.753Z"
   },
   {
    "duration": 19,
    "start_time": "2022-07-20T15:35:49.758Z"
   },
   {
    "duration": 4,
    "start_time": "2022-07-20T15:35:50.388Z"
   },
   {
    "duration": 17,
    "start_time": "2022-07-20T15:35:51.265Z"
   },
   {
    "duration": 16,
    "start_time": "2022-07-20T15:36:02.153Z"
   },
   {
    "duration": 21,
    "start_time": "2022-07-20T15:36:05.976Z"
   },
   {
    "duration": 5,
    "start_time": "2022-07-20T15:36:06.484Z"
   },
   {
    "duration": 16,
    "start_time": "2022-07-20T15:36:07.244Z"
   },
   {
    "duration": 4,
    "start_time": "2022-07-20T15:36:22.865Z"
   },
   {
    "duration": 17,
    "start_time": "2022-07-20T15:36:26.080Z"
   },
   {
    "duration": 20,
    "start_time": "2022-07-20T15:36:31.789Z"
   },
   {
    "duration": 6,
    "start_time": "2022-07-20T15:36:32.464Z"
   },
   {
    "duration": 18,
    "start_time": "2022-07-20T15:36:33.260Z"
   },
   {
    "duration": 3744,
    "start_time": "2022-07-20T15:36:41.225Z"
   },
   {
    "duration": 177,
    "start_time": "2022-07-20T15:40:11.965Z"
   },
   {
    "duration": 16,
    "start_time": "2022-07-20T15:42:25.176Z"
   },
   {
    "duration": 2084,
    "start_time": "2022-07-20T15:42:59.656Z"
   },
   {
    "duration": 2062,
    "start_time": "2022-07-20T15:43:09.784Z"
   },
   {
    "duration": 4104,
    "start_time": "2022-07-20T15:45:08.480Z"
   },
   {
    "duration": 28,
    "start_time": "2022-07-20T15:45:52.256Z"
   },
   {
    "duration": 27,
    "start_time": "2022-07-20T15:45:56.897Z"
   },
   {
    "duration": 20,
    "start_time": "2022-07-20T15:46:12.485Z"
   },
   {
    "duration": 2210,
    "start_time": "2022-07-20T15:53:52.770Z"
   },
   {
    "duration": 2356,
    "start_time": "2022-07-20T15:54:07.189Z"
   },
   {
    "duration": 2103,
    "start_time": "2022-07-20T15:54:27.777Z"
   },
   {
    "duration": 2150,
    "start_time": "2022-07-20T15:54:41.881Z"
   },
   {
    "duration": 1344,
    "start_time": "2022-07-20T15:55:18.969Z"
   },
   {
    "duration": 108,
    "start_time": "2022-07-20T15:55:20.316Z"
   },
   {
    "duration": 4065,
    "start_time": "2022-07-20T15:55:21.722Z"
   },
   {
    "duration": 5,
    "start_time": "2022-07-20T15:59:21.853Z"
   },
   {
    "duration": 22,
    "start_time": "2022-07-20T15:59:26.578Z"
   },
   {
    "duration": 15,
    "start_time": "2022-07-20T16:01:02.343Z"
   },
   {
    "duration": 7,
    "start_time": "2022-07-20T16:01:08.576Z"
   },
   {
    "duration": 3850,
    "start_time": "2022-07-20T16:01:23.454Z"
   },
   {
    "duration": 6,
    "start_time": "2022-07-20T16:02:50.690Z"
   },
   {
    "duration": 6,
    "start_time": "2022-07-20T16:09:01.693Z"
   },
   {
    "duration": 7,
    "start_time": "2022-07-20T16:41:30.655Z"
   },
   {
    "duration": 8,
    "start_time": "2022-07-20T16:42:19.351Z"
   },
   {
    "duration": 15,
    "start_time": "2022-07-20T16:42:23.744Z"
   },
   {
    "duration": 13,
    "start_time": "2022-07-20T16:42:28.757Z"
   },
   {
    "duration": 1558,
    "start_time": "2022-07-20T16:42:59.659Z"
   },
   {
    "duration": 6,
    "start_time": "2022-07-20T16:43:03.457Z"
   },
   {
    "duration": 22,
    "start_time": "2022-07-20T16:43:07.255Z"
   },
   {
    "duration": 4777,
    "start_time": "2022-07-20T16:43:10.713Z"
   },
   {
    "duration": 8,
    "start_time": "2022-07-20T16:43:18.558Z"
   },
   {
    "duration": 14,
    "start_time": "2022-07-20T16:43:21.363Z"
   },
   {
    "duration": 16,
    "start_time": "2022-07-20T16:43:32.907Z"
   },
   {
    "duration": 8,
    "start_time": "2022-07-20T16:43:47.262Z"
   },
   {
    "duration": 16,
    "start_time": "2022-07-20T16:44:00.973Z"
   },
   {
    "duration": 12,
    "start_time": "2022-07-20T16:44:09.553Z"
   },
   {
    "duration": 12,
    "start_time": "2022-07-20T16:44:25.667Z"
   },
   {
    "duration": 13,
    "start_time": "2022-07-20T16:44:32.475Z"
   },
   {
    "duration": 115,
    "start_time": "2022-07-20T16:49:12.411Z"
   },
   {
    "duration": 20,
    "start_time": "2022-07-20T16:49:23.151Z"
   },
   {
    "duration": 25,
    "start_time": "2022-07-20T16:49:50.112Z"
   },
   {
    "duration": 14,
    "start_time": "2022-07-20T16:50:04.051Z"
   },
   {
    "duration": 19,
    "start_time": "2022-07-20T16:50:16.119Z"
   },
   {
    "duration": 18,
    "start_time": "2022-07-20T16:50:22.856Z"
   },
   {
    "duration": 89,
    "start_time": "2022-07-20T16:51:42.451Z"
   },
   {
    "duration": 125,
    "start_time": "2022-07-20T16:51:59.681Z"
   },
   {
    "duration": 25,
    "start_time": "2022-07-20T16:52:50.108Z"
   },
   {
    "duration": 16,
    "start_time": "2022-07-20T16:52:57.804Z"
   },
   {
    "duration": 19,
    "start_time": "2022-07-20T16:53:32.353Z"
   },
   {
    "duration": 115,
    "start_time": "2022-07-20T16:53:39.479Z"
   },
   {
    "duration": 19,
    "start_time": "2022-07-20T16:55:39.253Z"
   },
   {
    "duration": 19,
    "start_time": "2022-07-20T16:55:57.359Z"
   },
   {
    "duration": 4515,
    "start_time": "2022-07-20T16:56:11.351Z"
   },
   {
    "duration": 16,
    "start_time": "2022-07-20T16:56:19.253Z"
   },
   {
    "duration": 15,
    "start_time": "2022-07-20T16:56:22.975Z"
   },
   {
    "duration": 18,
    "start_time": "2022-07-20T16:57:01.257Z"
   },
   {
    "duration": 18,
    "start_time": "2022-07-20T16:57:23.856Z"
   },
   {
    "duration": 22,
    "start_time": "2022-07-20T16:57:35.751Z"
   },
   {
    "duration": 22,
    "start_time": "2022-07-20T16:58:48.152Z"
   },
   {
    "duration": 23,
    "start_time": "2022-07-20T16:58:57.639Z"
   },
   {
    "duration": 23,
    "start_time": "2022-07-20T16:59:02.675Z"
   },
   {
    "duration": 78,
    "start_time": "2022-07-20T16:59:50.707Z"
   },
   {
    "duration": 88,
    "start_time": "2022-07-20T16:59:55.310Z"
   },
   {
    "duration": 26,
    "start_time": "2022-07-20T17:00:01.116Z"
   },
   {
    "duration": 29,
    "start_time": "2022-07-20T17:00:06.380Z"
   },
   {
    "duration": 23,
    "start_time": "2022-07-20T17:00:35.591Z"
   },
   {
    "duration": 24,
    "start_time": "2022-07-20T17:00:47.151Z"
   },
   {
    "duration": 24,
    "start_time": "2022-07-20T17:01:00.211Z"
   },
   {
    "duration": 22,
    "start_time": "2022-07-20T17:01:05.753Z"
   },
   {
    "duration": 23,
    "start_time": "2022-07-20T17:01:10.139Z"
   },
   {
    "duration": 22,
    "start_time": "2022-07-20T17:01:28.183Z"
   },
   {
    "duration": 125,
    "start_time": "2022-07-20T17:06:08.499Z"
   },
   {
    "duration": 21,
    "start_time": "2022-07-20T17:06:46.398Z"
   },
   {
    "duration": 15,
    "start_time": "2022-07-20T17:06:57.074Z"
   },
   {
    "duration": 16,
    "start_time": "2022-07-20T17:06:59.846Z"
   },
   {
    "duration": 19,
    "start_time": "2022-07-20T17:07:14.499Z"
   },
   {
    "duration": 18,
    "start_time": "2022-07-20T17:07:25.771Z"
   },
   {
    "duration": 19,
    "start_time": "2022-07-20T17:07:40.451Z"
   },
   {
    "duration": 18,
    "start_time": "2022-07-20T17:07:44.917Z"
   },
   {
    "duration": 17,
    "start_time": "2022-07-20T17:07:58.098Z"
   },
   {
    "duration": 18,
    "start_time": "2022-07-20T17:08:04.882Z"
   },
   {
    "duration": 15,
    "start_time": "2022-07-20T17:08:13.171Z"
   },
   {
    "duration": 16,
    "start_time": "2022-07-20T17:08:19.751Z"
   },
   {
    "duration": 16,
    "start_time": "2022-07-20T17:08:28.951Z"
   },
   {
    "duration": 73,
    "start_time": "2022-07-20T17:09:18.483Z"
   },
   {
    "duration": 14,
    "start_time": "2022-07-20T17:09:22.851Z"
   },
   {
    "duration": 7,
    "start_time": "2022-07-20T17:09:29.107Z"
   },
   {
    "duration": 10,
    "start_time": "2022-07-20T17:09:31.817Z"
   },
   {
    "duration": 1687,
    "start_time": "2022-07-20T17:09:31.950Z"
   },
   {
    "duration": 14,
    "start_time": "2022-07-20T17:09:40.610Z"
   },
   {
    "duration": 14,
    "start_time": "2022-07-20T17:09:47.751Z"
   },
   {
    "duration": 10,
    "start_time": "2022-07-20T17:10:39.579Z"
   },
   {
    "duration": 10,
    "start_time": "2022-07-20T17:10:42.749Z"
   },
   {
    "duration": 17,
    "start_time": "2022-07-20T17:10:46.502Z"
   },
   {
    "duration": 13,
    "start_time": "2022-07-20T17:10:53.847Z"
   },
   {
    "duration": 16,
    "start_time": "2022-07-20T17:11:00.010Z"
   },
   {
    "duration": 12,
    "start_time": "2022-07-20T17:11:16.975Z"
   },
   {
    "duration": 17,
    "start_time": "2022-07-20T17:11:24.806Z"
   },
   {
    "duration": 17,
    "start_time": "2022-07-20T17:11:34.654Z"
   },
   {
    "duration": 14,
    "start_time": "2022-07-20T17:11:44.271Z"
   },
   {
    "duration": 16,
    "start_time": "2022-07-20T17:11:58.053Z"
   },
   {
    "duration": 14,
    "start_time": "2022-07-20T17:12:09.099Z"
   },
   {
    "duration": 15,
    "start_time": "2022-07-20T17:12:13.558Z"
   },
   {
    "duration": 13,
    "start_time": "2022-07-20T17:12:18.858Z"
   },
   {
    "duration": 1724,
    "start_time": "2022-07-20T17:15:37.527Z"
   },
   {
    "duration": 63,
    "start_time": "2022-07-20T17:15:39.254Z"
   },
   {
    "duration": 18,
    "start_time": "2022-07-20T17:15:39.319Z"
   },
   {
    "duration": 9,
    "start_time": "2022-07-20T17:15:39.341Z"
   },
   {
    "duration": 15,
    "start_time": "2022-07-20T17:15:39.352Z"
   },
   {
    "duration": 7,
    "start_time": "2022-07-20T17:15:39.369Z"
   },
   {
    "duration": 9,
    "start_time": "2022-07-20T17:15:39.412Z"
   },
   {
    "duration": 16,
    "start_time": "2022-07-20T17:15:39.423Z"
   },
   {
    "duration": 6,
    "start_time": "2022-07-20T17:15:39.441Z"
   },
   {
    "duration": 23,
    "start_time": "2022-07-20T17:15:39.450Z"
   },
   {
    "duration": 88,
    "start_time": "2022-07-20T17:15:39.475Z"
   },
   {
    "duration": 13,
    "start_time": "2022-07-20T17:15:39.565Z"
   },
   {
    "duration": 37,
    "start_time": "2022-07-20T17:15:39.580Z"
   },
   {
    "duration": 162,
    "start_time": "2022-07-20T17:15:39.620Z"
   },
   {
    "duration": 0,
    "start_time": "2022-07-20T17:15:39.784Z"
   },
   {
    "duration": 0,
    "start_time": "2022-07-20T17:15:39.786Z"
   },
   {
    "duration": 0,
    "start_time": "2022-07-20T17:15:39.787Z"
   },
   {
    "duration": 0,
    "start_time": "2022-07-20T17:15:39.789Z"
   },
   {
    "duration": 0,
    "start_time": "2022-07-20T17:15:39.790Z"
   },
   {
    "duration": 0,
    "start_time": "2022-07-20T17:15:39.791Z"
   },
   {
    "duration": 0,
    "start_time": "2022-07-20T17:15:39.792Z"
   },
   {
    "duration": 0,
    "start_time": "2022-07-20T17:15:39.810Z"
   },
   {
    "duration": 0,
    "start_time": "2022-07-20T17:15:39.812Z"
   },
   {
    "duration": 0,
    "start_time": "2022-07-20T17:15:39.813Z"
   },
   {
    "duration": 0,
    "start_time": "2022-07-20T17:15:39.814Z"
   },
   {
    "duration": 0,
    "start_time": "2022-07-20T17:15:39.816Z"
   },
   {
    "duration": 0,
    "start_time": "2022-07-20T17:15:39.818Z"
   },
   {
    "duration": 0,
    "start_time": "2022-07-20T17:15:39.820Z"
   },
   {
    "duration": 0,
    "start_time": "2022-07-20T17:15:39.822Z"
   },
   {
    "duration": 0,
    "start_time": "2022-07-20T17:15:39.824Z"
   },
   {
    "duration": 0,
    "start_time": "2022-07-20T17:15:39.825Z"
   },
   {
    "duration": 0,
    "start_time": "2022-07-20T17:15:39.826Z"
   },
   {
    "duration": 0,
    "start_time": "2022-07-20T17:15:39.828Z"
   },
   {
    "duration": 0,
    "start_time": "2022-07-20T17:15:39.829Z"
   },
   {
    "duration": 1581,
    "start_time": "2022-07-20T17:19:06.466Z"
   },
   {
    "duration": 50,
    "start_time": "2022-07-20T17:19:08.049Z"
   },
   {
    "duration": 13,
    "start_time": "2022-07-20T17:19:08.102Z"
   },
   {
    "duration": 13,
    "start_time": "2022-07-20T17:19:08.117Z"
   },
   {
    "duration": 9,
    "start_time": "2022-07-20T17:19:08.133Z"
   },
   {
    "duration": 4,
    "start_time": "2022-07-20T17:19:08.144Z"
   },
   {
    "duration": 8,
    "start_time": "2022-07-20T17:19:08.150Z"
   },
   {
    "duration": 8,
    "start_time": "2022-07-20T17:19:08.160Z"
   },
   {
    "duration": 41,
    "start_time": "2022-07-20T17:19:08.170Z"
   },
   {
    "duration": 14,
    "start_time": "2022-07-20T17:19:08.213Z"
   },
   {
    "duration": 48,
    "start_time": "2022-07-20T17:19:08.229Z"
   },
   {
    "duration": 40,
    "start_time": "2022-07-20T17:19:08.279Z"
   },
   {
    "duration": 13,
    "start_time": "2022-07-20T17:19:08.321Z"
   },
   {
    "duration": 4724,
    "start_time": "2022-07-20T17:19:08.338Z"
   },
   {
    "duration": 1625,
    "start_time": "2022-07-20T17:19:13.064Z"
   },
   {
    "duration": 20,
    "start_time": "2022-07-20T17:19:14.691Z"
   },
   {
    "duration": 16,
    "start_time": "2022-07-20T17:19:14.713Z"
   },
   {
    "duration": 12,
    "start_time": "2022-07-20T17:19:14.731Z"
   },
   {
    "duration": 173,
    "start_time": "2022-07-20T17:19:14.745Z"
   },
   {
    "duration": 607,
    "start_time": "2022-07-20T17:19:14.921Z"
   },
   {
    "duration": 4,
    "start_time": "2022-07-20T17:19:15.530Z"
   },
   {
    "duration": 11,
    "start_time": "2022-07-20T17:19:15.536Z"
   },
   {
    "duration": 5,
    "start_time": "2022-07-20T17:19:15.549Z"
   },
   {
    "duration": 14,
    "start_time": "2022-07-20T17:19:15.555Z"
   },
   {
    "duration": 41,
    "start_time": "2022-07-20T17:19:15.571Z"
   },
   {
    "duration": 122592,
    "start_time": "2022-07-20T17:19:15.615Z"
   },
   {
    "duration": 1111,
    "start_time": "2022-07-20T17:21:18.210Z"
   },
   {
    "duration": 89,
    "start_time": "2022-07-20T17:21:19.323Z"
   },
   {
    "duration": 40,
    "start_time": "2022-07-20T17:21:19.414Z"
   },
   {
    "duration": 3955,
    "start_time": "2022-07-20T17:21:19.457Z"
   },
   {
    "duration": 14,
    "start_time": "2022-07-20T17:21:23.414Z"
   },
   {
    "duration": 41,
    "start_time": "2022-07-20T17:28:32.341Z"
   },
   {
    "duration": 126,
    "start_time": "2022-07-20T17:31:47.949Z"
   },
   {
    "duration": 1500,
    "start_time": "2022-07-20T17:32:00.965Z"
   },
   {
    "duration": 1625,
    "start_time": "2022-07-20T17:32:33.489Z"
   },
   {
    "duration": 49,
    "start_time": "2022-07-20T17:32:35.116Z"
   },
   {
    "duration": 15,
    "start_time": "2022-07-20T17:32:35.167Z"
   },
   {
    "duration": 7,
    "start_time": "2022-07-20T17:32:35.185Z"
   },
   {
    "duration": 26,
    "start_time": "2022-07-20T17:32:35.194Z"
   },
   {
    "duration": 8,
    "start_time": "2022-07-20T17:32:35.222Z"
   },
   {
    "duration": 16,
    "start_time": "2022-07-20T17:32:35.232Z"
   },
   {
    "duration": 22,
    "start_time": "2022-07-20T17:32:35.251Z"
   },
   {
    "duration": 8,
    "start_time": "2022-07-20T17:32:35.275Z"
   },
   {
    "duration": 35,
    "start_time": "2022-07-20T17:32:35.286Z"
   },
   {
    "duration": 54,
    "start_time": "2022-07-20T17:32:35.324Z"
   },
   {
    "duration": 7,
    "start_time": "2022-07-20T17:32:35.380Z"
   },
   {
    "duration": 21,
    "start_time": "2022-07-20T17:32:35.411Z"
   },
   {
    "duration": 4641,
    "start_time": "2022-07-20T17:32:35.434Z"
   },
   {
    "duration": 1653,
    "start_time": "2022-07-20T17:32:40.077Z"
   },
   {
    "duration": 9,
    "start_time": "2022-07-20T17:32:41.731Z"
   },
   {
    "duration": 27,
    "start_time": "2022-07-20T17:32:41.742Z"
   },
   {
    "duration": 149,
    "start_time": "2022-07-20T17:32:41.771Z"
   },
   {
    "duration": 629,
    "start_time": "2022-07-20T17:32:41.922Z"
   },
   {
    "duration": 4,
    "start_time": "2022-07-20T17:32:42.553Z"
   },
   {
    "duration": 24,
    "start_time": "2022-07-20T17:32:42.558Z"
   },
   {
    "duration": 18,
    "start_time": "2022-07-20T17:32:42.584Z"
   },
   {
    "duration": 12,
    "start_time": "2022-07-20T17:32:42.609Z"
   },
   {
    "duration": 128754,
    "start_time": "2022-07-20T17:32:42.623Z"
   },
   {
    "duration": 1531,
    "start_time": "2022-07-20T17:34:51.379Z"
   },
   {
    "duration": 7,
    "start_time": "2022-07-20T17:34:52.912Z"
   },
   {
    "duration": 23,
    "start_time": "2022-07-20T17:34:52.921Z"
   },
   {
    "duration": 4056,
    "start_time": "2022-07-20T17:34:52.947Z"
   },
   {
    "duration": 14,
    "start_time": "2022-07-20T17:34:57.005Z"
   },
   {
    "duration": 6,
    "start_time": "2022-07-20T17:34:57.021Z"
   },
   {
    "duration": 9,
    "start_time": "2022-07-20T17:38:20.957Z"
   },
   {
    "duration": 18,
    "start_time": "2022-07-20T17:38:25.218Z"
   },
   {
    "duration": 18,
    "start_time": "2022-07-20T17:38:50.462Z"
   },
   {
    "duration": 17,
    "start_time": "2022-07-20T17:38:59.598Z"
   },
   {
    "duration": 19,
    "start_time": "2022-07-20T17:39:06.926Z"
   },
   {
    "duration": 256,
    "start_time": "2022-07-20T17:47:11.286Z"
   },
   {
    "duration": 259,
    "start_time": "2022-07-20T17:47:18.911Z"
   },
   {
    "duration": 4799,
    "start_time": "2022-07-20T17:47:38.802Z"
   },
   {
    "duration": 4652,
    "start_time": "2022-07-20T17:47:52.047Z"
   },
   {
    "duration": 4,
    "start_time": "2022-07-20T17:52:25.178Z"
   },
   {
    "duration": 7,
    "start_time": "2022-07-20T17:53:00.171Z"
   },
   {
    "duration": 18,
    "start_time": "2022-07-20T17:53:04.782Z"
   },
   {
    "duration": 3045,
    "start_time": "2022-07-20T18:11:08.113Z"
   },
   {
    "duration": 3006,
    "start_time": "2022-07-20T18:19:04.309Z"
   },
   {
    "duration": 20,
    "start_time": "2022-07-20T21:47:45.460Z"
   },
   {
    "duration": 19,
    "start_time": "2022-07-20T21:48:07.211Z"
   },
   {
    "duration": 12,
    "start_time": "2022-07-20T21:48:22.868Z"
   },
   {
    "duration": 12,
    "start_time": "2022-07-20T21:48:52.820Z"
   },
   {
    "duration": 1543,
    "start_time": "2022-07-20T21:51:26.287Z"
   },
   {
    "duration": 51,
    "start_time": "2022-07-20T21:51:27.833Z"
   },
   {
    "duration": 12,
    "start_time": "2022-07-20T21:51:27.886Z"
   },
   {
    "duration": 16,
    "start_time": "2022-07-20T21:51:27.900Z"
   },
   {
    "duration": 15,
    "start_time": "2022-07-20T21:51:27.919Z"
   },
   {
    "duration": 4,
    "start_time": "2022-07-20T21:51:27.936Z"
   },
   {
    "duration": 23,
    "start_time": "2022-07-20T21:51:27.942Z"
   },
   {
    "duration": 19,
    "start_time": "2022-07-20T21:51:27.967Z"
   },
   {
    "duration": 14,
    "start_time": "2022-07-20T21:51:27.988Z"
   },
   {
    "duration": 23,
    "start_time": "2022-07-20T21:51:28.004Z"
   },
   {
    "duration": 61,
    "start_time": "2022-07-20T21:51:28.030Z"
   },
   {
    "duration": 20,
    "start_time": "2022-07-20T21:51:28.093Z"
   },
   {
    "duration": 25,
    "start_time": "2022-07-20T21:51:28.115Z"
   },
   {
    "duration": 4485,
    "start_time": "2022-07-20T21:51:28.143Z"
   },
   {
    "duration": 2847,
    "start_time": "2022-07-20T21:51:32.629Z"
   },
   {
    "duration": 1736,
    "start_time": "2022-07-20T21:51:35.478Z"
   },
   {
    "duration": 12,
    "start_time": "2022-07-20T21:51:37.216Z"
   },
   {
    "duration": 15,
    "start_time": "2022-07-20T21:51:37.231Z"
   },
   {
    "duration": 12,
    "start_time": "2022-07-20T21:51:37.248Z"
   },
   {
    "duration": 148,
    "start_time": "2022-07-20T21:51:37.262Z"
   },
   {
    "duration": 519,
    "start_time": "2022-07-20T21:51:37.413Z"
   },
   {
    "duration": 4,
    "start_time": "2022-07-20T21:51:37.934Z"
   },
   {
    "duration": 19,
    "start_time": "2022-07-20T21:51:37.940Z"
   },
   {
    "duration": 8,
    "start_time": "2022-07-20T21:51:37.960Z"
   },
   {
    "duration": 10,
    "start_time": "2022-07-20T21:51:37.970Z"
   },
   {
    "duration": 123593,
    "start_time": "2022-07-20T21:51:38.009Z"
   },
   {
    "duration": 1508,
    "start_time": "2022-07-20T21:53:41.609Z"
   },
   {
    "duration": 92,
    "start_time": "2022-07-20T21:53:43.120Z"
   },
   {
    "duration": 23,
    "start_time": "2022-07-20T21:53:43.214Z"
   },
   {
    "duration": 4092,
    "start_time": "2022-07-20T21:53:43.238Z"
   },
   {
    "duration": 12,
    "start_time": "2022-07-20T21:53:47.332Z"
   },
   {
    "duration": 19,
    "start_time": "2022-07-21T09:32:12.927Z"
   },
   {
    "duration": 14,
    "start_time": "2022-07-21T09:51:29.811Z"
   },
   {
    "duration": 1598,
    "start_time": "2022-07-21T09:51:38.121Z"
   },
   {
    "duration": 50,
    "start_time": "2022-07-21T09:51:39.721Z"
   },
   {
    "duration": 15,
    "start_time": "2022-07-21T09:51:39.773Z"
   },
   {
    "duration": 9,
    "start_time": "2022-07-21T09:51:39.790Z"
   },
   {
    "duration": 10,
    "start_time": "2022-07-21T09:51:39.810Z"
   },
   {
    "duration": 4,
    "start_time": "2022-07-21T09:51:39.822Z"
   },
   {
    "duration": 7,
    "start_time": "2022-07-21T09:51:39.829Z"
   },
   {
    "duration": 9,
    "start_time": "2022-07-21T09:51:39.839Z"
   },
   {
    "duration": 5,
    "start_time": "2022-07-21T09:51:39.850Z"
   },
   {
    "duration": 57,
    "start_time": "2022-07-21T09:51:39.856Z"
   },
   {
    "duration": 51,
    "start_time": "2022-07-21T09:51:39.915Z"
   },
   {
    "duration": 6,
    "start_time": "2022-07-21T09:51:39.968Z"
   },
   {
    "duration": 50,
    "start_time": "2022-07-21T09:51:39.977Z"
   },
   {
    "duration": 4483,
    "start_time": "2022-07-21T09:51:40.032Z"
   },
   {
    "duration": 2754,
    "start_time": "2022-07-21T09:51:44.517Z"
   },
   {
    "duration": 1746,
    "start_time": "2022-07-21T09:51:47.273Z"
   },
   {
    "duration": 13,
    "start_time": "2022-07-21T09:51:49.021Z"
   },
   {
    "duration": 9,
    "start_time": "2022-07-21T09:51:49.036Z"
   },
   {
    "duration": 10,
    "start_time": "2022-07-21T09:51:49.047Z"
   },
   {
    "duration": 157,
    "start_time": "2022-07-21T09:51:49.058Z"
   },
   {
    "duration": 561,
    "start_time": "2022-07-21T09:51:49.218Z"
   },
   {
    "duration": 4,
    "start_time": "2022-07-21T09:51:49.781Z"
   },
   {
    "duration": 13,
    "start_time": "2022-07-21T09:51:49.787Z"
   },
   {
    "duration": 8,
    "start_time": "2022-07-21T09:51:49.810Z"
   },
   {
    "duration": 8,
    "start_time": "2022-07-21T09:51:49.820Z"
   },
   {
    "duration": 128724,
    "start_time": "2022-07-21T09:51:49.830Z"
   },
   {
    "duration": 1467,
    "start_time": "2022-07-21T09:53:58.556Z"
   },
   {
    "duration": 7,
    "start_time": "2022-07-21T09:54:00.111Z"
   },
   {
    "duration": 36,
    "start_time": "2022-07-21T09:54:00.120Z"
   },
   {
    "duration": 3678,
    "start_time": "2022-07-21T09:54:00.158Z"
   },
   {
    "duration": 14,
    "start_time": "2022-07-21T09:54:03.838Z"
   },
   {
    "duration": 6,
    "start_time": "2022-07-21T10:14:26.887Z"
   },
   {
    "duration": 1517,
    "start_time": "2022-07-21T11:18:55.880Z"
   },
   {
    "duration": 56,
    "start_time": "2022-07-21T11:18:57.399Z"
   },
   {
    "duration": 13,
    "start_time": "2022-07-21T11:18:57.457Z"
   },
   {
    "duration": 10,
    "start_time": "2022-07-21T11:18:57.472Z"
   },
   {
    "duration": 18,
    "start_time": "2022-07-21T11:18:57.485Z"
   },
   {
    "duration": 4,
    "start_time": "2022-07-21T11:18:57.510Z"
   },
   {
    "duration": 14,
    "start_time": "2022-07-21T11:18:57.516Z"
   },
   {
    "duration": 13,
    "start_time": "2022-07-21T11:18:57.532Z"
   },
   {
    "duration": 7,
    "start_time": "2022-07-21T11:18:57.547Z"
   },
   {
    "duration": 17,
    "start_time": "2022-07-21T11:18:57.556Z"
   },
   {
    "duration": 75,
    "start_time": "2022-07-21T11:18:57.574Z"
   },
   {
    "duration": 6,
    "start_time": "2022-07-21T11:18:57.652Z"
   },
   {
    "duration": 24,
    "start_time": "2022-07-21T11:18:57.659Z"
   },
   {
    "duration": 4630,
    "start_time": "2022-07-21T11:18:57.687Z"
   },
   {
    "duration": 2683,
    "start_time": "2022-07-21T11:19:02.319Z"
   },
   {
    "duration": 1708,
    "start_time": "2022-07-21T11:19:05.003Z"
   },
   {
    "duration": 13,
    "start_time": "2022-07-21T11:19:06.713Z"
   },
   {
    "duration": 7,
    "start_time": "2022-07-21T11:19:06.728Z"
   },
   {
    "duration": 12,
    "start_time": "2022-07-21T11:19:06.736Z"
   },
   {
    "duration": 166,
    "start_time": "2022-07-21T11:19:06.750Z"
   },
   {
    "duration": 571,
    "start_time": "2022-07-21T11:19:06.919Z"
   },
   {
    "duration": 7,
    "start_time": "2022-07-21T11:19:07.492Z"
   },
   {
    "duration": 23,
    "start_time": "2022-07-21T11:19:07.502Z"
   },
   {
    "duration": 34,
    "start_time": "2022-07-21T11:19:07.527Z"
   },
   {
    "duration": 31,
    "start_time": "2022-07-21T11:19:07.563Z"
   },
   {
    "duration": 133050,
    "start_time": "2022-07-21T11:19:07.596Z"
   },
   {
    "duration": 1061,
    "start_time": "2022-07-21T11:21:20.649Z"
   },
   {
    "duration": 7,
    "start_time": "2022-07-21T11:21:21.714Z"
   },
   {
    "duration": 114,
    "start_time": "2022-07-21T11:21:21.723Z"
   },
   {
    "duration": 3754,
    "start_time": "2022-07-21T11:21:21.839Z"
   },
   {
    "duration": 15,
    "start_time": "2022-07-21T11:21:25.595Z"
   },
   {
    "duration": 15,
    "start_time": "2022-07-21T11:21:25.612Z"
   },
   {
    "duration": 1618,
    "start_time": "2022-07-21T12:08:40.586Z"
   },
   {
    "duration": 68,
    "start_time": "2022-07-21T12:08:42.207Z"
   },
   {
    "duration": 19,
    "start_time": "2022-07-21T12:08:42.280Z"
   },
   {
    "duration": 17,
    "start_time": "2022-07-21T12:08:42.301Z"
   },
   {
    "duration": 46,
    "start_time": "2022-07-21T12:08:42.320Z"
   },
   {
    "duration": 17,
    "start_time": "2022-07-21T12:08:42.369Z"
   },
   {
    "duration": 18,
    "start_time": "2022-07-21T12:08:42.389Z"
   },
   {
    "duration": 34,
    "start_time": "2022-07-21T12:08:42.409Z"
   },
   {
    "duration": 14,
    "start_time": "2022-07-21T12:08:42.445Z"
   },
   {
    "duration": 19,
    "start_time": "2022-07-21T12:08:42.462Z"
   },
   {
    "duration": 59,
    "start_time": "2022-07-21T12:08:42.484Z"
   },
   {
    "duration": 8,
    "start_time": "2022-07-21T12:08:42.545Z"
   },
   {
    "duration": 34,
    "start_time": "2022-07-21T12:08:42.556Z"
   },
   {
    "duration": 4508,
    "start_time": "2022-07-21T12:08:42.592Z"
   },
   {
    "duration": 2772,
    "start_time": "2022-07-21T12:08:47.102Z"
   },
   {
    "duration": 1785,
    "start_time": "2022-07-21T12:08:49.876Z"
   },
   {
    "duration": 14,
    "start_time": "2022-07-21T12:08:51.663Z"
   },
   {
    "duration": 31,
    "start_time": "2022-07-21T12:08:51.679Z"
   },
   {
    "duration": 10,
    "start_time": "2022-07-21T12:08:51.712Z"
   },
   {
    "duration": 393,
    "start_time": "2022-07-21T12:08:51.724Z"
   },
   {
    "duration": 581,
    "start_time": "2022-07-21T12:08:52.119Z"
   },
   {
    "duration": 3,
    "start_time": "2022-07-21T12:08:52.702Z"
   },
   {
    "duration": 10,
    "start_time": "2022-07-21T12:08:52.711Z"
   },
   {
    "duration": 10,
    "start_time": "2022-07-21T12:08:52.723Z"
   },
   {
    "duration": 12,
    "start_time": "2022-07-21T12:08:52.735Z"
   },
   {
    "duration": 128596,
    "start_time": "2022-07-21T12:08:52.749Z"
   },
   {
    "duration": 1077,
    "start_time": "2022-07-21T12:11:01.347Z"
   },
   {
    "duration": 79,
    "start_time": "2022-07-21T12:11:02.436Z"
   },
   {
    "duration": 32,
    "start_time": "2022-07-21T12:11:02.517Z"
   },
   {
    "duration": 4064,
    "start_time": "2022-07-21T12:11:02.552Z"
   },
   {
    "duration": 8,
    "start_time": "2022-07-21T12:11:06.619Z"
   },
   {
    "duration": 25,
    "start_time": "2022-07-21T12:11:06.630Z"
   },
   {
    "duration": 1775,
    "start_time": "2022-07-21T12:50:41.150Z"
   },
   {
    "duration": 154,
    "start_time": "2022-07-21T12:50:42.928Z"
   },
   {
    "duration": 12,
    "start_time": "2022-07-21T12:50:43.084Z"
   },
   {
    "duration": 9,
    "start_time": "2022-07-21T12:50:43.098Z"
   },
   {
    "duration": 11,
    "start_time": "2022-07-21T12:50:43.108Z"
   },
   {
    "duration": 7,
    "start_time": "2022-07-21T12:50:43.121Z"
   },
   {
    "duration": 8,
    "start_time": "2022-07-21T12:50:43.129Z"
   },
   {
    "duration": 10,
    "start_time": "2022-07-21T12:50:43.139Z"
   },
   {
    "duration": 7,
    "start_time": "2022-07-21T12:50:43.151Z"
   },
   {
    "duration": 13,
    "start_time": "2022-07-21T12:50:43.161Z"
   },
   {
    "duration": 70,
    "start_time": "2022-07-21T12:50:43.176Z"
   },
   {
    "duration": 5,
    "start_time": "2022-07-21T12:50:43.248Z"
   },
   {
    "duration": 24,
    "start_time": "2022-07-21T12:50:43.255Z"
   },
   {
    "duration": 4223,
    "start_time": "2022-07-21T12:50:43.281Z"
   },
   {
    "duration": 2721,
    "start_time": "2022-07-21T12:50:47.505Z"
   },
   {
    "duration": 1733,
    "start_time": "2022-07-21T12:50:50.228Z"
   },
   {
    "duration": 17,
    "start_time": "2022-07-21T12:50:51.964Z"
   },
   {
    "duration": 9,
    "start_time": "2022-07-21T12:50:51.983Z"
   },
   {
    "duration": 17,
    "start_time": "2022-07-21T12:50:51.994Z"
   },
   {
    "duration": 91,
    "start_time": "2022-07-21T12:50:52.013Z"
   },
   {
    "duration": 459,
    "start_time": "2022-07-21T12:50:52.106Z"
   },
   {
    "duration": 5,
    "start_time": "2022-07-21T12:50:52.567Z"
   },
   {
    "duration": 13,
    "start_time": "2022-07-21T12:50:52.574Z"
   },
   {
    "duration": 20,
    "start_time": "2022-07-21T12:50:52.589Z"
   },
   {
    "duration": 9,
    "start_time": "2022-07-21T12:50:52.611Z"
   },
   {
    "duration": 118400,
    "start_time": "2022-07-21T12:50:52.621Z"
   },
   {
    "duration": 1591,
    "start_time": "2022-07-21T12:52:51.022Z"
   },
   {
    "duration": 6,
    "start_time": "2022-07-21T12:52:52.704Z"
   },
   {
    "duration": 18,
    "start_time": "2022-07-21T12:52:52.711Z"
   },
   {
    "duration": 3396,
    "start_time": "2022-07-21T12:52:52.731Z"
   },
   {
    "duration": 7,
    "start_time": "2022-07-21T12:52:56.129Z"
   },
   {
    "duration": 22,
    "start_time": "2022-07-21T12:52:56.138Z"
   },
   {
    "duration": 1746,
    "start_time": "2022-07-21T14:54:26.998Z"
   },
   {
    "duration": 52,
    "start_time": "2022-07-21T14:54:28.747Z"
   },
   {
    "duration": 15,
    "start_time": "2022-07-21T14:54:28.800Z"
   },
   {
    "duration": 8,
    "start_time": "2022-07-21T14:54:28.817Z"
   },
   {
    "duration": 16,
    "start_time": "2022-07-21T14:54:28.827Z"
   },
   {
    "duration": 7,
    "start_time": "2022-07-21T14:54:28.845Z"
   },
   {
    "duration": 13,
    "start_time": "2022-07-21T14:54:28.854Z"
   },
   {
    "duration": 12,
    "start_time": "2022-07-21T14:54:28.869Z"
   },
   {
    "duration": 33,
    "start_time": "2022-07-21T14:54:28.883Z"
   },
   {
    "duration": 14,
    "start_time": "2022-07-21T14:54:28.919Z"
   },
   {
    "duration": 59,
    "start_time": "2022-07-21T14:54:28.935Z"
   },
   {
    "duration": 7,
    "start_time": "2022-07-21T14:54:29.010Z"
   },
   {
    "duration": 22,
    "start_time": "2022-07-21T14:54:29.019Z"
   },
   {
    "duration": 4762,
    "start_time": "2022-07-21T14:54:29.044Z"
   },
   {
    "duration": 3006,
    "start_time": "2022-07-21T14:54:33.810Z"
   },
   {
    "duration": 1904,
    "start_time": "2022-07-21T14:54:36.819Z"
   },
   {
    "duration": 16,
    "start_time": "2022-07-21T14:54:38.725Z"
   },
   {
    "duration": 9,
    "start_time": "2022-07-21T14:54:38.743Z"
   },
   {
    "duration": 19,
    "start_time": "2022-07-21T14:54:38.754Z"
   },
   {
    "duration": 151,
    "start_time": "2022-07-21T14:54:38.775Z"
   },
   {
    "duration": 482,
    "start_time": "2022-07-21T14:54:39.016Z"
   },
   {
    "duration": 4,
    "start_time": "2022-07-21T14:54:39.500Z"
   },
   {
    "duration": 24,
    "start_time": "2022-07-21T14:54:39.510Z"
   },
   {
    "duration": 33,
    "start_time": "2022-07-21T14:54:39.536Z"
   },
   {
    "duration": 25,
    "start_time": "2022-07-21T14:54:39.571Z"
   },
   {
    "duration": 129898,
    "start_time": "2022-07-21T14:54:39.598Z"
   },
   {
    "duration": 1712,
    "start_time": "2022-07-21T14:56:49.498Z"
   },
   {
    "duration": 6,
    "start_time": "2022-07-21T14:56:51.214Z"
   },
   {
    "duration": 36,
    "start_time": "2022-07-21T14:56:51.223Z"
   },
   {
    "duration": 3796,
    "start_time": "2022-07-21T14:56:51.260Z"
   },
   {
    "duration": 7,
    "start_time": "2022-07-21T14:56:55.058Z"
   },
   {
    "duration": 28,
    "start_time": "2022-07-21T14:56:55.067Z"
   }
  ],
  "kernelspec": {
   "display_name": "Python 3 (ipykernel)",
   "language": "python",
   "name": "python3"
  },
  "language_info": {
   "codemirror_mode": {
    "name": "ipython",
    "version": 3
   },
   "file_extension": ".py",
   "mimetype": "text/x-python",
   "name": "python",
   "nbconvert_exporter": "python",
   "pygments_lexer": "ipython3",
   "version": "3.9.7"
  },
  "toc": {
   "base_numbering": 1,
   "nav_menu": {},
   "number_sections": true,
   "sideBar": true,
   "skip_h1_title": true,
   "title_cell": "Содержание",
   "title_sidebar": "Contents",
   "toc_cell": true,
   "toc_position": {},
   "toc_section_display": true,
   "toc_window_display": false
  }
 },
 "nbformat": 4,
 "nbformat_minor": 2
}
